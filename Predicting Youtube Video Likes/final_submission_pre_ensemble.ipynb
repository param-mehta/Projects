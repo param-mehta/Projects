{
 "cells": [
  {
   "cell_type": "code",
   "execution_count": 1,
   "id": "1ddc858a",
   "metadata": {
    "_cell_guid": "b1076dfc-b9ad-4769-8c92-a6c4dae69d19",
    "_uuid": "8f2839f25d086af736a60e9eeb907d3b93b6e0e5",
    "execution": {
     "iopub.execute_input": "2022-02-09T18:54:39.285371Z",
     "iopub.status.busy": "2022-02-09T18:54:39.284618Z",
     "iopub.status.idle": "2022-02-09T18:54:39.288424Z",
     "shell.execute_reply": "2022-02-09T18:54:39.289018Z",
     "shell.execute_reply.started": "2022-02-09T18:34:41.102556Z"
    },
    "papermill": {
     "duration": 0.050719,
     "end_time": "2022-02-09T18:54:39.289296",
     "exception": false,
     "start_time": "2022-02-09T18:54:39.238577",
     "status": "completed"
    },
    "tags": []
   },
   "outputs": [],
   "source": [
    "import warnings\n",
    "warnings.filterwarnings(\"ignore\")"
   ]
  },
  {
   "cell_type": "code",
   "execution_count": 2,
   "id": "a666c9df",
   "metadata": {
    "execution": {
     "iopub.execute_input": "2022-02-09T18:54:39.346448Z",
     "iopub.status.busy": "2022-02-09T18:54:39.345664Z",
     "iopub.status.idle": "2022-02-09T18:54:52.160517Z",
     "shell.execute_reply": "2022-02-09T18:54:52.160047Z",
     "shell.execute_reply.started": "2022-02-09T18:34:41.135147Z"
    },
    "papermill": {
     "duration": 12.845949,
     "end_time": "2022-02-09T18:54:52.160645",
     "exception": false,
     "start_time": "2022-02-09T18:54:39.314696",
     "status": "completed"
    },
    "tags": []
   },
   "outputs": [
    {
     "data": {
      "text/html": [
       "<style type='text/css'>\n",
       ".datatable table.frame { margin-bottom: 0; }\n",
       ".datatable table.frame thead { border-bottom: none; }\n",
       ".datatable table.frame tr.coltypes td {  color: #FFFFFF;  line-height: 6px;  padding: 0 0.5em;}\n",
       ".datatable .bool    { background: #DDDD99; }\n",
       ".datatable .object  { background: #565656; }\n",
       ".datatable .int     { background: #5D9E5D; }\n",
       ".datatable .float   { background: #4040CC; }\n",
       ".datatable .str     { background: #CC4040; }\n",
       ".datatable .time    { background: #40CC40; }\n",
       ".datatable .row_index {  background: var(--jp-border-color3);  border-right: 1px solid var(--jp-border-color0);  color: var(--jp-ui-font-color3);  font-size: 9px;}\n",
       ".datatable .frame tbody td { text-align: left; }\n",
       ".datatable .frame tr.coltypes .row_index {  background: var(--jp-border-color0);}\n",
       ".datatable th:nth-child(2) { padding-left: 12px; }\n",
       ".datatable .hellipsis {  color: var(--jp-cell-editor-border-color);}\n",
       ".datatable .vellipsis {  background: var(--jp-layout-color0);  color: var(--jp-cell-editor-border-color);}\n",
       ".datatable .na {  color: var(--jp-cell-editor-border-color);  font-size: 80%;}\n",
       ".datatable .sp {  opacity: 0.25;}\n",
       ".datatable .footer { font-size: 9px; }\n",
       ".datatable .frame_dimensions {  background: var(--jp-border-color3);  border-top: 1px solid var(--jp-border-color0);  color: var(--jp-ui-font-color3);  display: inline-block;  opacity: 0.6;  padding: 1px 10px 1px 5px;}\n",
       "</style>\n"
      ],
      "text/plain": [
       "<IPython.core.display.HTML object>"
      ]
     },
     "metadata": {},
     "output_type": "display_data"
    }
   ],
   "source": [
    "import os\n",
    "import gc\n",
    "import regex as re\n",
    "import spacy\n",
    "import xgboost\n",
    "import lightgbm\n",
    "import catboost\n",
    "import itertools\n",
    "import numpy as np\n",
    "import pandas as pd\n",
    "import codecs,string\n",
    "import matplotlib.pyplot as plt\n",
    "from sklearn import decomposition\n",
    "from sklearn import model_selection\n",
    "from tqdm import tqdm_notebook as tqdm\n",
    "from sklearn import metrics, preprocessing\n",
    "from sklearn.feature_extraction.text import TfidfVectorizer\n",
    "\n",
    "gc.enable()"
   ]
  },
  {
   "cell_type": "code",
   "execution_count": 3,
   "id": "f1b82c1d",
   "metadata": {
    "execution": {
     "iopub.execute_input": "2022-02-09T18:54:52.199210Z",
     "iopub.status.busy": "2022-02-09T18:54:52.197650Z",
     "iopub.status.idle": "2022-02-09T18:54:52.199842Z",
     "shell.execute_reply": "2022-02-09T18:54:52.200263Z",
     "shell.execute_reply.started": "2022-02-09T18:34:44.61972Z"
    },
    "papermill": {
     "duration": 0.022924,
     "end_time": "2022-02-09T18:54:52.200383",
     "exception": false,
     "start_time": "2022-02-09T18:54:52.177459",
     "status": "completed"
    },
    "tags": []
   },
   "outputs": [],
   "source": [
    "class config:\n",
    "    TARGET = 'target'\n",
    "    NUM_FOLDS = 10\n",
    "    JUNK = -9999\n",
    "    SEED = 3407\n",
    "    USE_TfIdf = True\n",
    "    MAX_FEATURES = 2500\n",
    "    USE_spacy = True"
   ]
  },
  {
   "cell_type": "code",
   "execution_count": 4,
   "id": "23e5509c",
   "metadata": {
    "execution": {
     "iopub.execute_input": "2022-02-09T18:54:52.242799Z",
     "iopub.status.busy": "2022-02-09T18:54:52.241266Z",
     "iopub.status.idle": "2022-02-09T18:54:52.243403Z",
     "shell.execute_reply": "2022-02-09T18:54:52.243811Z",
     "shell.execute_reply.started": "2022-02-09T18:34:44.621812Z"
    },
    "papermill": {
     "duration": 0.027348,
     "end_time": "2022-02-09T18:54:52.243936",
     "exception": false,
     "start_time": "2022-02-09T18:54:52.216588",
     "status": "completed"
    },
    "tags": []
   },
   "outputs": [],
   "source": [
    "def create_folds(df):\n",
    "    \n",
    "    data = df[['video_id', 'target']]\n",
    "    data = pd.DataFrame(df.groupby('video_id')['target'].mean()).reset_index()\n",
    "    \n",
    "    data = data.dropna().reset_index()\n",
    "    \n",
    "    data['kfold'] = -1\n",
    "    \n",
    "    num_bins = int(np.floor(1 + np.log2(len(data))))\n",
    "    data.loc[:, \"bins\"] = pd.cut(\n",
    "        data[config.TARGET], bins=num_bins, labels=False\n",
    "    )\n",
    "    \n",
    "    kf = model_selection.StratifiedKFold(n_splits=config.NUM_FOLDS, shuffle=True, random_state=config.SEED)\n",
    "    for f, (t_, v_) in enumerate(kf.split(X=data, y=data.bins.values)):\n",
    "        data.loc[v_, 'kfold'] = f\n",
    "        \n",
    "    data = data.drop([\"bins\", \"target\"], axis=1)\n",
    "    \n",
    "    df = df.merge(data, on='video_id', how='left').drop('index', axis=1)\n",
    "    \n",
    "    del data\n",
    "    gc.collect()\n",
    "    \n",
    "    return df"
   ]
  },
  {
   "cell_type": "code",
   "execution_count": 5,
   "id": "1450a292",
   "metadata": {
    "execution": {
     "iopub.execute_input": "2022-02-09T18:54:52.284366Z",
     "iopub.status.busy": "2022-02-09T18:54:52.282768Z",
     "iopub.status.idle": "2022-02-09T18:54:52.284958Z",
     "shell.execute_reply": "2022-02-09T18:54:52.285370Z",
     "shell.execute_reply.started": "2022-02-09T18:34:44.623757Z"
    },
    "papermill": {
     "duration": 0.025406,
     "end_time": "2022-02-09T18:54:52.285484",
     "exception": false,
     "start_time": "2022-02-09T18:54:52.260078",
     "status": "completed"
    },
    "tags": []
   },
   "outputs": [],
   "source": [
    "def is_arabic(character):\n",
    "    maxchar = max(character)\n",
    "    if u'\\u0627' <= maxchar <= u'\\u064a':\n",
    "        return True\n",
    "    else:\n",
    "        return False\n",
    "    \n",
    "#korean\n",
    "def is_hangul(value):\n",
    "    if re.search(r'\\p{IsHangul}', value):\n",
    "        return True\n",
    "    return False\n",
    "\n",
    "# referred to https://stackoverflow.com/questions/10809176/regular-expressions-regex-in-japanese \n",
    "#Japanese\n",
    "def is_japanese(value):\n",
    "    if re.search(r'[\\p{Hiragana}\\p{Katakana}\\p{Han}\\p{Latin}]', value):\n",
    "        return True\n",
    "    return False\n",
    "\n",
    "\n",
    "def is_hindi(character):\n",
    "    maxchar = max(character)\n",
    "    if u'\\u0900' <= maxchar <= u'\\u097f':\n",
    "        return True\n",
    "    else:\n",
    "        return False"
   ]
  },
  {
   "cell_type": "code",
   "execution_count": 6,
   "id": "055b72bd",
   "metadata": {
    "execution": {
     "iopub.execute_input": "2022-02-09T18:54:52.343966Z",
     "iopub.status.busy": "2022-02-09T18:54:52.343232Z",
     "iopub.status.idle": "2022-02-09T18:54:52.346080Z",
     "shell.execute_reply": "2022-02-09T18:54:52.345475Z",
     "shell.execute_reply.started": "2022-02-09T18:34:44.625748Z"
    },
    "papermill": {
     "duration": 0.044278,
     "end_time": "2022-02-09T18:54:52.346234",
     "exception": false,
     "start_time": "2022-02-09T18:54:52.301956",
     "status": "completed"
    },
    "tags": []
   },
   "outputs": [],
   "source": [
    "def basic_preprocess(train_data, test_data):\n",
    "    test_data[config.TARGET] = config.JUNK\n",
    "    data = pd.concat([train_data, test_data]).reset_index(drop=True)\n",
    "\n",
    "    cat_cols = ['video_id', 'channelId', 'categoryId', 'comments_disabled', 'ratings_disabled']\n",
    "    num_cols = ['duration_seconds']\n",
    "    date_cols = ['publishedAt', 'trending_date']\n",
    "    \n",
    "    drop_cols = ['id']\n",
    "    \n",
    "    # -------------  CATEGORICAL COLUMNS  ------------- #\n",
    "    # encoding\n",
    "    print('Label Encoding...')\n",
    "    for col in cat_cols:\n",
    "        data[col].fillna('NONE', inplace=True)\n",
    "        enc = preprocessing.LabelEncoder()\n",
    "        data[col] = enc.fit_transform(data[col])\n",
    "        data[col] = data[col].astype('category')\n",
    "\n",
    "    # -------------  NUMERIC COLUMNS  ------------- #\n",
    "    # Min max scaling\n",
    "    print('Normalising num cols...')\n",
    "    for col in num_cols:\n",
    "        # data[col].fillna(data[col].mean(), inplace=True)\n",
    "        data[col] = (data[col] - data[col].min()) / (data[col].max() - data[col].min())\n",
    "        \n",
    "#     num_bins = int(np.floor(1 + np.log2(len(data))))\n",
    "#     data.loc[:, \"duration_seconds_bins\"] = pd.cut(\n",
    "#         data[\"duration_seconds\"], bins=num_bins, labels=False\n",
    "#     )\n",
    "\n",
    "    # ------- Date Time cols ------ \n",
    "    print('Date time cols...')\n",
    "    for col in date_cols:\n",
    "        data[col] = pd.to_datetime(data[col], utc=True)\n",
    "        data.loc[:, col + '_year'] = (data[col].dt.year).astype('category')\n",
    "        data.loc[:, col + '_weekofyear'] = (data[col].dt.weekofyear).astype('category')\n",
    "        data.loc[:, col + '_month'] = (data[col].dt.month).astype('category')\n",
    "        data.loc[:, col + '_dayofweek'] = (data[col].dt.dayofweek).astype('category')\n",
    "        data.loc[:, col + '_weekend'] = ((data[col].dt.weekday >=5).astype(int)).astype('category')\n",
    "        drop_cols.append(col)\n",
    "    \n",
    "\n",
    "    data['video_age'] = (data['trending_date'] - data['publishedAt'])\\\n",
    "                        .dt.days.astype('int')\\\n",
    "                        .replace({-1: 0}).value_counts()\n",
    "    \n",
    "    \n",
    "    # --------Rob Features -------- #\n",
    "    data['channel_occurance'] = data['channelId'].map(\n",
    "        data['channelId'].value_counts().to_dict())\n",
    "\n",
    "    data['channel_unique_video_count'] = data['channelId'].map(\n",
    "        data.groupby('channelId')['video_id'].nunique().to_dict())\n",
    "    \n",
    "    data['video_occurance_count'] = data.groupby('video_id')['trending_date'].rank().astype('int')\n",
    "   \n",
    "    \n",
    "    # ------- Text columns -------\n",
    "    print('Text stuff')\n",
    "    data['text'] = data['channelTitle']\\\n",
    "            + ' ' + data['title'] \\\n",
    "            + ' ' + data['description'].fillna(' ').apply(lambda x: re.sub(r'http\\S+', ' ', x))\\\n",
    "            + ' ' + data['tags'].apply(lambda x: x.replace('|', ' ').replace('[None]', ''))\n",
    "    \n",
    "    data['num_words'] = data['text'].apply(lambda x: len(x.split()))\n",
    "    data['num_characters'] = data['text'].apply(lambda x: len(x))\n",
    "    \n",
    "    drop_cols += ['channelTitle', 'title', 'description', 'tags']\n",
    "    drop_cols += ['thumbnail_link', 'has_thumbnail']\n",
    "    drop_cols += ['isTest']\n",
    "    drop_cols += ['view_count', 'likes', 'dislikes', 'comment_count',]\n",
    "\n",
    "    #  ----------- New Features ---------------------------------------\n",
    "    data['Friday_Trending'] = [1 if a == 4 else 0 for a in data.trending_date_dayofweek]\n",
    "    data['Thursday_Trending'] = [1 if a == 3 else 0 for a in data.trending_date_dayofweek]\n",
    "    data['Friday_Published'] = [1 if a == 4 else 0 for a in data.publishedAt_dayofweek]\n",
    "    data['Sunday_Published'] = [1 if a == 6 else 0 for a in data.publishedAt_dayofweek]\n",
    "    data['duration_missing'] = data.duration_seconds.isna()\n",
    "    data['short_video'] = [1 if a<=60 else 0 for a in data.duration_seconds]\n",
    "    data['isArabic'] = [is_arabic(a) for a in data.tags]\n",
    "    data['isKorean'] = [is_hangul(a) for a in data.tags]\n",
    "    data['isJapanese'] = [is_japanese(a) for a in data.tags]\n",
    "    data['isHindi'] = [is_hindi(a) for a in data.tags]\n",
    "    \n",
    "    \n",
    "    data.drop(drop_cols, axis=1, inplace=True)\n",
    "    \n",
    "    train_data = data[data[config.TARGET] != config.JUNK].reset_index(drop=True)\n",
    "    test_data = data[data[config.TARGET] == config.JUNK].reset_index(drop=True)\n",
    "    test_data.drop([config.TARGET], axis=1, inplace=True)\n",
    "    \n",
    "    print('Done!!!')\n",
    "    return train_data, test_data"
   ]
  },
  {
   "cell_type": "code",
   "execution_count": 7,
   "id": "f4bbdb2f",
   "metadata": {
    "execution": {
     "iopub.execute_input": "2022-02-09T18:54:52.386447Z",
     "iopub.status.busy": "2022-02-09T18:54:52.383551Z",
     "iopub.status.idle": "2022-02-09T18:54:52.388618Z",
     "shell.execute_reply": "2022-02-09T18:54:52.388230Z",
     "shell.execute_reply.started": "2022-02-09T18:34:44.627688Z"
    },
    "papermill": {
     "duration": 0.024085,
     "end_time": "2022-02-09T18:54:52.388729",
     "exception": false,
     "start_time": "2022-02-09T18:54:52.364644",
     "status": "completed"
    },
    "tags": []
   },
   "outputs": [],
   "source": [
    "def spacy_features(text):\n",
    "    \n",
    "    nlp = spacy.load('en_core_web_lg')\n",
    "    with nlp.disable_pipes():\n",
    "        spacy.prefer_gpu()\n",
    "        vectors = np.array([nlp(t).vector for t in tqdm(text)])\n",
    "    \n",
    "    vectors = pd.DataFrame(vectors, columns=[f'spacy_{i}' for i in range(300)])\n",
    "        \n",
    "    return vectors"
   ]
  },
  {
   "cell_type": "code",
   "execution_count": 8,
   "id": "ef9b0918",
   "metadata": {
    "execution": {
     "iopub.execute_input": "2022-02-09T18:54:52.427395Z",
     "iopub.status.busy": "2022-02-09T18:54:52.425725Z",
     "iopub.status.idle": "2022-02-09T18:54:52.428027Z",
     "shell.execute_reply": "2022-02-09T18:54:52.428490Z",
     "shell.execute_reply.started": "2022-02-09T18:34:44.629453Z"
    },
    "papermill": {
     "duration": 0.023706,
     "end_time": "2022-02-09T18:54:52.428617",
     "exception": false,
     "start_time": "2022-02-09T18:54:52.404911",
     "status": "completed"
    },
    "tags": []
   },
   "outputs": [],
   "source": [
    "def vectorize(train_text, test_text):\n",
    "    vectorizer = TfidfVectorizer(max_features=config.MAX_FEATURES, ngram_range=(1, 2), stop_words='english')\n",
    "    \n",
    "    train_vectors = vectorizer.fit_transform(train_text).toarray() \n",
    "    test_vectors = vectorizer.transform(test_text).toarray()\n",
    "    \n",
    "    return train_vectors, test_vectors"
   ]
  },
  {
   "cell_type": "code",
   "execution_count": 9,
   "id": "a789d2b5",
   "metadata": {
    "execution": {
     "iopub.execute_input": "2022-02-09T18:54:52.469654Z",
     "iopub.status.busy": "2022-02-09T18:54:52.468140Z",
     "iopub.status.idle": "2022-02-09T18:54:52.470295Z",
     "shell.execute_reply": "2022-02-09T18:54:52.470686Z",
     "shell.execute_reply.started": "2022-02-09T18:34:44.631284Z"
    },
    "papermill": {
     "duration": 0.025689,
     "end_time": "2022-02-09T18:54:52.470828",
     "exception": false,
     "start_time": "2022-02-09T18:54:52.445139",
     "status": "completed"
    },
    "tags": []
   },
   "outputs": [],
   "source": [
    "model_dispatcher = {\n",
    "    'lgbm': lightgbm.LGBMRegressor(n_estimators=2000),\n",
    "    'catboost': catboost.CatBoostRegressor(n_estimators=2000, max_depth=10, verbose=0, task_type='GPU'),\n",
    "    'xgb': xgboost.XGBRegressor(n_estimators=2000, verbosity=0, tree_method='gpu_hist')\n",
    "}"
   ]
  },
  {
   "cell_type": "code",
   "execution_count": 10,
   "id": "77cfede6",
   "metadata": {
    "execution": {
     "iopub.execute_input": "2022-02-09T18:54:52.511111Z",
     "iopub.status.busy": "2022-02-09T18:54:52.510316Z",
     "iopub.status.idle": "2022-02-09T18:54:52.515305Z",
     "shell.execute_reply": "2022-02-09T18:54:52.515669Z",
     "shell.execute_reply.started": "2022-02-09T18:34:44.633289Z"
    },
    "papermill": {
     "duration": 0.028887,
     "end_time": "2022-02-09T18:54:52.515812",
     "exception": false,
     "start_time": "2022-02-09T18:54:52.486925",
     "status": "completed"
    },
    "tags": []
   },
   "outputs": [],
   "source": [
    "def get_score(y_true, y_preds):\n",
    "    return round(\n",
    "        metrics.mean_absolute_error(y_true, y_preds),\n",
    "        5\n",
    "    )\n",
    "\n",
    "\n",
    "def train_fn(data, fold, model_name, test_data):\n",
    "    train_data = data[data['kfold'] != fold].reset_index(drop=True)\n",
    "    valid_data = data[data['kfold'] == fold].reset_index(drop=True)\n",
    "    \n",
    "    x_train = train_data.drop(['kfold', config.TARGET], axis=1)\n",
    "    y_train = train_data[config.TARGET]\n",
    "    \n",
    "    x_valid = valid_data.drop(['kfold', config.TARGET], axis=1)\n",
    "    y_valid = valid_data[config.TARGET]\n",
    "    \n",
    "    model = model_dispatcher[model_name]\n",
    "    \n",
    "    model.fit(x_train, y_train, cat_features=CAT_COLS_CATBOOST)\n",
    "    y_preds = model.predict(x_valid)\n",
    "    y_train_preds = model.predict(data.drop(['kfold', config.TARGET], axis=1))\n",
    "    \n",
    "    score = get_score(y_valid, np.abs(y_preds))\n",
    "    print(f'Fold: {fold}, Score: {score}')\n",
    "    \n",
    "    y_test = model.predict(test_data)\n",
    "\n",
    "    \n",
    "    if fold ==0:\n",
    "        fi = pd.DataFrame({'feature_importance': model.get_feature_importance(catboost.Pool(x_valid, label=y_valid,cat_features=CAT_COLS_CATBOOST)), \n",
    "              'feature_names': x_valid.columns}).sort_values(by=['feature_importance'], \n",
    "                                                           ascending=False)\n",
    "        fi.plot(x = 'feature_names', y = 'feature_importance',  kind='barh', figsize=(12, 8),\n",
    "                                      title='Feature Importance')\n",
    "        plt.show()\n",
    "        \n",
    "    del model\n",
    "    del train_data, valid_data\n",
    "    del x_train, y_train, x_valid, y_valid\n",
    "    del test_data, y_preds\n",
    "    gc.collect()\n",
    "    \n",
    "    return score, y_test, y_train_preds"
   ]
  },
  {
   "cell_type": "code",
   "execution_count": 11,
   "id": "2b300beb",
   "metadata": {
    "execution": {
     "iopub.execute_input": "2022-02-09T18:54:52.552044Z",
     "iopub.status.busy": "2022-02-09T18:54:52.551492Z",
     "iopub.status.idle": "2022-02-09T18:54:54.353571Z",
     "shell.execute_reply": "2022-02-09T18:54:54.353060Z",
     "shell.execute_reply.started": "2022-02-09T18:34:44.635171Z"
    },
    "papermill": {
     "duration": 1.821541,
     "end_time": "2022-02-09T18:54:54.353694",
     "exception": false,
     "start_time": "2022-02-09T18:54:52.532153",
     "status": "completed"
    },
    "tags": []
   },
   "outputs": [],
   "source": [
    "df = pd.read_parquet('../input/kaggle-pog-series-s01e01/train.parquet') # .sample(100)\n",
    "test = pd.read_parquet('../input/kaggle-pog-series-s01e01/test.parquet') # .sample(100)\n",
    "\n",
    "sub = test[['id']]"
   ]
  },
  {
   "cell_type": "code",
   "execution_count": 12,
   "id": "4031a75b",
   "metadata": {
    "execution": {
     "iopub.execute_input": "2022-02-09T18:54:54.398248Z",
     "iopub.status.busy": "2022-02-09T18:54:54.397469Z",
     "iopub.status.idle": "2022-02-09T18:55:00.599857Z",
     "shell.execute_reply": "2022-02-09T18:55:00.599372Z",
     "shell.execute_reply.started": "2022-02-09T18:34:44.640127Z"
    },
    "papermill": {
     "duration": 6.228952,
     "end_time": "2022-02-09T18:55:00.600004",
     "exception": false,
     "start_time": "2022-02-09T18:54:54.371052",
     "status": "completed"
    },
    "tags": []
   },
   "outputs": [
    {
     "name": "stdout",
     "output_type": "stream",
     "text": [
      "Label Encoding...\n",
      "Normalising num cols...\n",
      "Date time cols...\n",
      "Text stuff\n",
      "Done!!!\n"
     ]
    }
   ],
   "source": [
    "train, test = basic_preprocess(df, test)"
   ]
  },
  {
   "cell_type": "code",
   "execution_count": 13,
   "id": "75f5b945",
   "metadata": {
    "execution": {
     "iopub.execute_input": "2022-02-09T18:55:00.639510Z",
     "iopub.status.busy": "2022-02-09T18:55:00.638739Z",
     "iopub.status.idle": "2022-02-09T18:55:00.641754Z",
     "shell.execute_reply": "2022-02-09T18:55:00.642192Z",
     "shell.execute_reply.started": "2022-02-09T18:34:44.641951Z"
    },
    "papermill": {
     "duration": 0.024728,
     "end_time": "2022-02-09T18:55:00.642323",
     "exception": false,
     "start_time": "2022-02-09T18:55:00.617595",
     "status": "completed"
    },
    "tags": []
   },
   "outputs": [
    {
     "data": {
      "text/plain": [
       "(92275, 34)"
      ]
     },
     "execution_count": 13,
     "metadata": {},
     "output_type": "execute_result"
    }
   ],
   "source": [
    "train.shape"
   ]
  },
  {
   "cell_type": "code",
   "execution_count": 14,
   "id": "7cdccfa1",
   "metadata": {
    "execution": {
     "iopub.execute_input": "2022-02-09T18:55:00.680114Z",
     "iopub.status.busy": "2022-02-09T18:55:00.679309Z",
     "iopub.status.idle": "2022-02-09T18:55:00.683899Z",
     "shell.execute_reply": "2022-02-09T18:55:00.683464Z",
     "shell.execute_reply.started": "2022-02-09T18:34:44.645914Z"
    },
    "papermill": {
     "duration": 0.024381,
     "end_time": "2022-02-09T18:55:00.684008",
     "exception": false,
     "start_time": "2022-02-09T18:55:00.659627",
     "status": "completed"
    },
    "tags": []
   },
   "outputs": [],
   "source": [
    "CAT_COLS_CATBOOST = [\n",
    "    'channelId',\n",
    "    'categoryId',\n",
    "    'publishedAt_year',\n",
    "    'publishedAt_weekofyear',\n",
    "    'publishedAt_month',\n",
    "    'publishedAt_dayofweek',\n",
    "    'publishedAt_weekend',\n",
    "    'trending_date_year',\n",
    "    'trending_date_weekofyear',\n",
    "    'trending_date_month',\n",
    "    'trending_date_dayofweek',\n",
    "    'Friday_Trending',\n",
    "    'Friday_Published',\n",
    "    'isKorean']"
   ]
  },
  {
   "cell_type": "code",
   "execution_count": 15,
   "id": "1c772635",
   "metadata": {
    "execution": {
     "iopub.execute_input": "2022-02-09T18:55:00.722081Z",
     "iopub.status.busy": "2022-02-09T18:55:00.721180Z",
     "iopub.status.idle": "2022-02-09T18:55:00.733637Z",
     "shell.execute_reply": "2022-02-09T18:55:00.733247Z",
     "shell.execute_reply.started": "2022-02-09T18:34:44.647752Z"
    },
    "papermill": {
     "duration": 0.032454,
     "end_time": "2022-02-09T18:55:00.733741",
     "exception": false,
     "start_time": "2022-02-09T18:55:00.701287",
     "status": "completed"
    },
    "tags": []
   },
   "outputs": [],
   "source": [
    "train_text = train.text.tolist()\n",
    "test_text = test.text.tolist()\n",
    "\n",
    "train.drop(['text',], axis=1, inplace=True)\n",
    "test.drop(['text',], axis=1, inplace=True)"
   ]
  },
  {
   "cell_type": "code",
   "execution_count": 16,
   "id": "72e84f5b",
   "metadata": {
    "execution": {
     "iopub.execute_input": "2022-02-09T18:55:00.817831Z",
     "iopub.status.busy": "2022-02-09T18:55:00.807604Z",
     "iopub.status.idle": "2022-02-09T18:56:37.617746Z",
     "shell.execute_reply": "2022-02-09T18:56:37.617134Z",
     "shell.execute_reply.started": "2022-02-09T18:34:44.649378Z"
    },
    "papermill": {
     "duration": 96.866862,
     "end_time": "2022-02-09T18:56:37.617931",
     "exception": false,
     "start_time": "2022-02-09T18:55:00.751069",
     "status": "completed"
    },
    "tags": []
   },
   "outputs": [
    {
     "name": "stdout",
     "output_type": "stream",
     "text": [
      "vectorizing...\n",
      "Fitting PCA...\n",
      "done!\n"
     ]
    },
    {
     "data": {
      "text/plain": [
       "30"
      ]
     },
     "execution_count": 16,
     "metadata": {},
     "output_type": "execute_result"
    }
   ],
   "source": [
    "if config.USE_TfIdf:\n",
    "    print('vectorizing...')\n",
    "    \n",
    "    train_vectors, test_vectors = vectorize(train_text, test_text)\n",
    "    \n",
    "    pca = decomposition.PCA(n_components=500, random_state=config.SEED)\n",
    "    print(\"Fitting PCA...\")\n",
    "    pca.fit(train_vectors)\n",
    "    train_projection = pca.transform(train_vectors)\n",
    "    test_projection = pca.transform(test_vectors)\n",
    "    \n",
    "    train_vectors = pd.DataFrame(train_projection)\n",
    "    train_vectors.columns = [f'cat_{i}' for i in range(train_vectors.shape[1])]\n",
    "\n",
    "    test_vectors = pd.DataFrame(test_projection)\n",
    "    test_vectors.columns = [f'cat_{i}' for i in range(test_vectors.shape[1])]\n",
    "    \n",
    "    train = pd.concat([train, train_vectors], axis=1)\n",
    "    test = pd.concat([test, test_vectors], axis=1)\n",
    "    \n",
    "    print('done!')\n",
    "    \n",
    "gc.collect()"
   ]
  },
  {
   "cell_type": "code",
   "execution_count": 17,
   "id": "79411dbb",
   "metadata": {
    "execution": {
     "iopub.execute_input": "2022-02-09T18:56:37.660844Z",
     "iopub.status.busy": "2022-02-09T18:56:37.660329Z",
     "iopub.status.idle": "2022-02-09T18:56:47.535968Z",
     "shell.execute_reply": "2022-02-09T18:56:47.536388Z",
     "shell.execute_reply.started": "2022-02-09T18:34:44.651188Z"
    },
    "papermill": {
     "duration": 9.899293,
     "end_time": "2022-02-09T18:56:47.536565",
     "exception": false,
     "start_time": "2022-02-09T18:56:37.637272",
     "status": "completed"
    },
    "tags": []
   },
   "outputs": [],
   "source": [
    "if config.USE_spacy:\n",
    "    train_spacy_features = pd.read_csv('../input/pog001-spacy-features/train_spacy_features.csv') # .drop(['target'], axis=1)\n",
    "    test_spacy_features = pd.read_csv('../input/pog001-spacy-features/test_spacy_features.csv') # .drop(['target'], axis=1)\n",
    "\n",
    "    train = pd.concat([train, train_spacy_features], axis=1)\n",
    "    test = pd.concat([test, test_spacy_features], axis=1)\n",
    "\n",
    "    del train_spacy_features, test_spacy_features\n",
    "    gc.collect()"
   ]
  },
  {
   "cell_type": "code",
   "execution_count": 18,
   "id": "b8ddcaef",
   "metadata": {
    "execution": {
     "iopub.execute_input": "2022-02-09T18:56:47.580801Z",
     "iopub.status.busy": "2022-02-09T18:56:47.580255Z",
     "iopub.status.idle": "2022-02-09T18:56:48.577037Z",
     "shell.execute_reply": "2022-02-09T18:56:48.576431Z",
     "shell.execute_reply.started": "2022-02-09T18:34:44.65278Z"
    },
    "papermill": {
     "duration": 1.021523,
     "end_time": "2022-02-09T18:56:48.577168",
     "exception": false,
     "start_time": "2022-02-09T18:56:47.555645",
     "status": "completed"
    },
    "tags": []
   },
   "outputs": [],
   "source": [
    "train = train[train['ratings_disabled'] == 0].reset_index(drop=True)\n",
    "train.drop(['ratings_disabled'], axis=1, inplace=True)\n",
    "test.drop(['ratings_disabled'], axis=1, inplace=True)"
   ]
  },
  {
   "cell_type": "code",
   "execution_count": 19,
   "id": "6729551d",
   "metadata": {
    "execution": {
     "iopub.execute_input": "2022-02-09T18:56:48.637184Z",
     "iopub.status.busy": "2022-02-09T18:56:48.636228Z",
     "iopub.status.idle": "2022-02-09T18:56:50.192190Z",
     "shell.execute_reply": "2022-02-09T18:56:50.191669Z",
     "shell.execute_reply.started": "2022-02-09T18:34:44.658176Z"
    },
    "papermill": {
     "duration": 1.583949,
     "end_time": "2022-02-09T18:56:50.192328",
     "exception": false,
     "start_time": "2022-02-09T18:56:48.608379",
     "status": "completed"
    },
    "tags": []
   },
   "outputs": [],
   "source": [
    "train_folds = create_folds(train)"
   ]
  },
  {
   "cell_type": "code",
   "execution_count": 20,
   "id": "7941ff80",
   "metadata": {
    "execution": {
     "iopub.execute_input": "2022-02-09T18:56:50.407972Z",
     "iopub.status.busy": "2022-02-09T18:56:50.235844Z",
     "iopub.status.idle": "2022-02-09T18:56:50.423688Z",
     "shell.execute_reply": "2022-02-09T18:56:50.423175Z",
     "shell.execute_reply.started": "2022-02-09T18:34:44.659971Z"
    },
    "papermill": {
     "duration": 0.212704,
     "end_time": "2022-02-09T18:56:50.423834",
     "exception": false,
     "start_time": "2022-02-09T18:56:50.211130",
     "status": "completed"
    },
    "tags": []
   },
   "outputs": [],
   "source": [
    "useless = ['video_id','isArabic','duration_missing','isJapanese','short_video','trending_date_weekend','isHindi','Thursday_Trending','comments_disabled','Sunday_Published']\n",
    "features = [i for i in train_folds.columns if i not in useless]\n",
    "train_folds = train_folds[features]\n",
    "features = [i for i in test.columns if i not in useless]\n",
    "test = test[features]"
   ]
  },
  {
   "cell_type": "code",
   "execution_count": 21,
   "id": "3311b8a8",
   "metadata": {
    "execution": {
     "iopub.execute_input": "2022-02-09T18:56:50.466836Z",
     "iopub.status.busy": "2022-02-09T18:56:50.465577Z",
     "iopub.status.idle": "2022-02-09T18:56:50.489400Z",
     "shell.execute_reply": "2022-02-09T18:56:50.489758Z",
     "shell.execute_reply.started": "2022-02-09T18:34:44.662071Z"
    },
    "papermill": {
     "duration": 0.047194,
     "end_time": "2022-02-09T18:56:50.489940",
     "exception": false,
     "start_time": "2022-02-09T18:56:50.442746",
     "status": "completed"
    },
    "tags": []
   },
   "outputs": [
    {
     "data": {
      "text/html": [
       "<div>\n",
       "<style scoped>\n",
       "    .dataframe tbody tr th:only-of-type {\n",
       "        vertical-align: middle;\n",
       "    }\n",
       "\n",
       "    .dataframe tbody tr th {\n",
       "        vertical-align: top;\n",
       "    }\n",
       "\n",
       "    .dataframe thead th {\n",
       "        text-align: right;\n",
       "    }\n",
       "</style>\n",
       "<table border=\"1\" class=\"dataframe\">\n",
       "  <thead>\n",
       "    <tr style=\"text-align: right;\">\n",
       "      <th></th>\n",
       "      <th>channelId</th>\n",
       "      <th>categoryId</th>\n",
       "      <th>duration_seconds</th>\n",
       "      <th>target</th>\n",
       "      <th>publishedAt_year</th>\n",
       "      <th>publishedAt_weekofyear</th>\n",
       "      <th>publishedAt_month</th>\n",
       "      <th>publishedAt_dayofweek</th>\n",
       "      <th>publishedAt_weekend</th>\n",
       "      <th>trending_date_year</th>\n",
       "      <th>...</th>\n",
       "      <th>spacy_291</th>\n",
       "      <th>spacy_292</th>\n",
       "      <th>spacy_293</th>\n",
       "      <th>spacy_294</th>\n",
       "      <th>spacy_295</th>\n",
       "      <th>spacy_296</th>\n",
       "      <th>spacy_297</th>\n",
       "      <th>spacy_298</th>\n",
       "      <th>spacy_299</th>\n",
       "      <th>kfold</th>\n",
       "    </tr>\n",
       "  </thead>\n",
       "  <tbody>\n",
       "    <tr>\n",
       "      <th>0</th>\n",
       "      <td>4508</td>\n",
       "      <td>7</td>\n",
       "      <td>NaN</td>\n",
       "      <td>0.103596</td>\n",
       "      <td>2020</td>\n",
       "      <td>33</td>\n",
       "      <td>8</td>\n",
       "      <td>1</td>\n",
       "      <td>0</td>\n",
       "      <td>2020</td>\n",
       "      <td>...</td>\n",
       "      <td>-0.002529</td>\n",
       "      <td>-0.060508</td>\n",
       "      <td>-0.002594</td>\n",
       "      <td>0.127825</td>\n",
       "      <td>-0.029619</td>\n",
       "      <td>0.003280</td>\n",
       "      <td>-0.016495</td>\n",
       "      <td>-0.008726</td>\n",
       "      <td>0.106308</td>\n",
       "      <td>2</td>\n",
       "    </tr>\n",
       "    <tr>\n",
       "      <th>1</th>\n",
       "      <td>115</td>\n",
       "      <td>6</td>\n",
       "      <td>NaN</td>\n",
       "      <td>0.061611</td>\n",
       "      <td>2020</td>\n",
       "      <td>33</td>\n",
       "      <td>8</td>\n",
       "      <td>1</td>\n",
       "      <td>0</td>\n",
       "      <td>2020</td>\n",
       "      <td>...</td>\n",
       "      <td>-0.075823</td>\n",
       "      <td>-0.166156</td>\n",
       "      <td>-0.039034</td>\n",
       "      <td>-0.069062</td>\n",
       "      <td>0.031587</td>\n",
       "      <td>-0.018785</td>\n",
       "      <td>-0.003276</td>\n",
       "      <td>0.075232</td>\n",
       "      <td>0.034280</td>\n",
       "      <td>7</td>\n",
       "    </tr>\n",
       "    <tr>\n",
       "      <th>2</th>\n",
       "      <td>2734</td>\n",
       "      <td>9</td>\n",
       "      <td>NaN</td>\n",
       "      <td>0.173523</td>\n",
       "      <td>2020</td>\n",
       "      <td>33</td>\n",
       "      <td>8</td>\n",
       "      <td>1</td>\n",
       "      <td>0</td>\n",
       "      <td>2020</td>\n",
       "      <td>...</td>\n",
       "      <td>0.037210</td>\n",
       "      <td>0.031576</td>\n",
       "      <td>0.054045</td>\n",
       "      <td>0.137317</td>\n",
       "      <td>-0.021773</td>\n",
       "      <td>-0.030770</td>\n",
       "      <td>-0.083969</td>\n",
       "      <td>-0.128467</td>\n",
       "      <td>0.229208</td>\n",
       "      <td>2</td>\n",
       "    </tr>\n",
       "    <tr>\n",
       "      <th>3</th>\n",
       "      <td>3016</td>\n",
       "      <td>2</td>\n",
       "      <td>NaN</td>\n",
       "      <td>0.046804</td>\n",
       "      <td>2020</td>\n",
       "      <td>33</td>\n",
       "      <td>8</td>\n",
       "      <td>1</td>\n",
       "      <td>0</td>\n",
       "      <td>2020</td>\n",
       "      <td>...</td>\n",
       "      <td>0.006147</td>\n",
       "      <td>0.032810</td>\n",
       "      <td>0.017815</td>\n",
       "      <td>0.074406</td>\n",
       "      <td>-0.019042</td>\n",
       "      <td>-0.109596</td>\n",
       "      <td>-0.061865</td>\n",
       "      <td>-0.051815</td>\n",
       "      <td>0.020958</td>\n",
       "      <td>5</td>\n",
       "    </tr>\n",
       "    <tr>\n",
       "      <th>4</th>\n",
       "      <td>1110</td>\n",
       "      <td>11</td>\n",
       "      <td>NaN</td>\n",
       "      <td>0.040753</td>\n",
       "      <td>2020</td>\n",
       "      <td>33</td>\n",
       "      <td>8</td>\n",
       "      <td>1</td>\n",
       "      <td>0</td>\n",
       "      <td>2020</td>\n",
       "      <td>...</td>\n",
       "      <td>-0.000403</td>\n",
       "      <td>-0.016457</td>\n",
       "      <td>0.010130</td>\n",
       "      <td>0.006342</td>\n",
       "      <td>-0.022810</td>\n",
       "      <td>0.000107</td>\n",
       "      <td>-0.059409</td>\n",
       "      <td>-0.054310</td>\n",
       "      <td>0.033589</td>\n",
       "      <td>2</td>\n",
       "    </tr>\n",
       "  </tbody>\n",
       "</table>\n",
       "<p>5 rows × 823 columns</p>\n",
       "</div>"
      ],
      "text/plain": [
       "  channelId categoryId  duration_seconds    target publishedAt_year  \\\n",
       "0      4508          7               NaN  0.103596             2020   \n",
       "1       115          6               NaN  0.061611             2020   \n",
       "2      2734          9               NaN  0.173523             2020   \n",
       "3      3016          2               NaN  0.046804             2020   \n",
       "4      1110         11               NaN  0.040753             2020   \n",
       "\n",
       "  publishedAt_weekofyear publishedAt_month publishedAt_dayofweek  \\\n",
       "0                     33                 8                     1   \n",
       "1                     33                 8                     1   \n",
       "2                     33                 8                     1   \n",
       "3                     33                 8                     1   \n",
       "4                     33                 8                     1   \n",
       "\n",
       "  publishedAt_weekend trending_date_year  ... spacy_291 spacy_292 spacy_293  \\\n",
       "0                   0               2020  ... -0.002529 -0.060508 -0.002594   \n",
       "1                   0               2020  ... -0.075823 -0.166156 -0.039034   \n",
       "2                   0               2020  ...  0.037210  0.031576  0.054045   \n",
       "3                   0               2020  ...  0.006147  0.032810  0.017815   \n",
       "4                   0               2020  ... -0.000403 -0.016457  0.010130   \n",
       "\n",
       "   spacy_294  spacy_295  spacy_296  spacy_297  spacy_298  spacy_299  kfold  \n",
       "0   0.127825  -0.029619   0.003280  -0.016495  -0.008726   0.106308      2  \n",
       "1  -0.069062   0.031587  -0.018785  -0.003276   0.075232   0.034280      7  \n",
       "2   0.137317  -0.021773  -0.030770  -0.083969  -0.128467   0.229208      2  \n",
       "3   0.074406  -0.019042  -0.109596  -0.061865  -0.051815   0.020958      5  \n",
       "4   0.006342  -0.022810   0.000107  -0.059409  -0.054310   0.033589      2  \n",
       "\n",
       "[5 rows x 823 columns]"
      ]
     },
     "execution_count": 21,
     "metadata": {},
     "output_type": "execute_result"
    }
   ],
   "source": [
    "train_folds.head()"
   ]
  },
  {
   "cell_type": "code",
   "execution_count": 22,
   "id": "5440592e",
   "metadata": {
    "execution": {
     "iopub.execute_input": "2022-02-09T18:56:50.535410Z",
     "iopub.status.busy": "2022-02-09T18:56:50.534891Z",
     "iopub.status.idle": "2022-02-09T19:36:22.095267Z",
     "shell.execute_reply": "2022-02-09T19:36:22.095674Z",
     "shell.execute_reply.started": "2022-02-09T18:34:44.664345Z"
    },
    "papermill": {
     "duration": 2371.585903,
     "end_time": "2022-02-09T19:36:22.095856",
     "exception": false,
     "start_time": "2022-02-09T18:56:50.509953",
     "status": "completed"
    },
    "tags": []
   },
   "outputs": [
    {
     "name": "stdout",
     "output_type": "stream",
     "text": [
      "catboost\n"
     ]
    },
    {
     "data": {
      "application/vnd.jupyter.widget-view+json": {
       "model_id": "089aa6460ce34c508730028668a0869b",
       "version_major": 2,
       "version_minor": 0
      },
      "text/plain": [
       "  0%|          | 0/10 [00:00<?, ?it/s]"
      ]
     },
     "metadata": {},
     "output_type": "display_data"
    },
    {
     "name": "stdout",
     "output_type": "stream",
     "text": [
      "Fold: 0, Score: 0.01493\n"
     ]
    },
    {
     "data": {
      "image/png": "[encoded data removed]",
      "text/plain": [
       "<Figure size 864x576 with 1 Axes>"
      ]
     },
     "metadata": {
      "needs_background": "light"
     },
     "output_type": "display_data"
    },
    {
     "name": "stdout",
     "output_type": "stream",
     "text": [
      "Fold: 1, Score: 0.01428\n",
      "Fold: 2, Score: 0.01416\n",
      "Fold: 3, Score: 0.01425\n",
      "Fold: 4, Score: 0.01493\n",
      "Fold: 5, Score: 0.01481\n",
      "Fold: 6, Score: 0.01438\n",
      "Fold: 7, Score: 0.01395\n",
      "Fold: 8, Score: 0.01434\n",
      "Fold: 9, Score: 0.01451\n",
      "Average Score: 0.01445\n",
      "\n"
     ]
    }
   ],
   "source": [
    "models = [\n",
    "    'catboost'\n",
    "]\n",
    "\n",
    "all_test_preds = {}\n",
    "all_train_preds = {}\n",
    "\n",
    "# train_folds[CAT_COLS_CATBOOST] = train_folds[CAT_COLS_CATBOOST].astype(int)\n",
    "# test[CAT_COLS_CATBOOST] = test[CAT_COLS_CATBOOST].astype(int)\n",
    "\n",
    "for model_name in models:\n",
    "    print(model_name)\n",
    "    score_sum = 0\n",
    "    test_preds = np.zeros((len(test)))\n",
    "    train_preds = np.zeros((len(train_folds)))\n",
    "    \n",
    "    for fold in tqdm(range(config.NUM_FOLDS)):\n",
    "        score, current_test_preds, current_train_preds = train_fn(train_folds, fold, model_name, test)  \n",
    "        score_sum += score\n",
    "        test_preds += current_test_preds\n",
    "        train_preds += current_train_preds\n",
    "    \n",
    "    all_test_preds[model_name] = test_preds / config.NUM_FOLDS\n",
    "    all_train_preds[model_name] = train_preds / config.NUM_FOLDS\n",
    "    \n",
    "    print(f'Average Score: {round(score_sum / config.NUM_FOLDS, 5)}')\n",
    "    print()"
   ]
  },
  {
   "cell_type": "code",
   "execution_count": 23,
   "id": "9633ff2b",
   "metadata": {
    "execution": {
     "iopub.execute_input": "2022-02-09T19:36:22.150546Z",
     "iopub.status.busy": "2022-02-09T19:36:22.150054Z",
     "iopub.status.idle": "2022-02-09T19:36:22.210281Z",
     "shell.execute_reply": "2022-02-09T19:36:22.210704Z",
     "shell.execute_reply.started": "2022-02-09T18:34:44.668704Z"
    },
    "papermill": {
     "duration": 0.090183,
     "end_time": "2022-02-09T19:36:22.210871",
     "exception": false,
     "start_time": "2022-02-09T19:36:22.120688",
     "status": "completed"
    },
    "tags": []
   },
   "outputs": [],
   "source": [
    "sub = pd.read_parquet('../input/kaggle-pog-series-s01e01/test.parquet')\n",
    "sub['target'] = np.abs(all_test_preds['catboost'])\n",
    "\n",
    "sub['mask_for_pp'] = (sub['ratings_disabled'] == False) * 1\n",
    "sub['target'] = sub['target'] * sub['mask_for_pp']\n",
    "\n",
    "sub[['id', 'target']].to_csv('submission1.csv', index=False)"
   ]
  }
 ],
 "metadata": {
  "kernelspec": {
   "display_name": "Python 3",
   "language": "python",
   "name": "python3"
  },
  "language_info": {
   "codemirror_mode": {
    "name": "ipython",
    "version": 3
   },
   "file_extension": ".py",
   "mimetype": "text/x-python",
   "name": "python",
   "nbconvert_exporter": "python",
   "pygments_lexer": "ipython3",
   "version": "3.7.12"
  },
  "papermill": {
   "default_parameters": {},
   "duration": 2514.337492,
   "end_time": "2022-02-09T19:36:25.333348",
   "environment_variables": {},
   "exception": null,
   "input_path": "__notebook__.ipynb",
   "output_path": "__notebook__.ipynb",
   "parameters": {},
   "start_time": "2022-02-09T18:54:30.995856",
   "version": "2.3.3"
  },
  "widgets": {
   "application/vnd.jupyter.widget-state+json": {
    "state": {
     "089aa6460ce34c508730028668a0869b": {
      "model_module": "@jupyter-widgets/controls",
      "model_module_version": "1.5.0",
      "model_name": "HBoxModel",
      "state": {
       "_dom_classes": [],
       "_model_module": "@jupyter-widgets/controls",
       "_model_module_version": "1.5.0",
       "_model_name": "HBoxModel",
       "_view_count": null,
       "_view_module": "@jupyter-widgets/controls",
       "_view_module_version": "1.5.0",
       "_view_name": "HBoxView",
       "box_style": "",
       "children": [
        "IPY_MODEL_fe4a93f15715449c8c0b2dec2927ec36",
        "IPY_MODEL_f0d3c51073c345739245dee44ee1e7d0",
        "IPY_MODEL_64de8b4a32964ca3a562273e0cada2de"
       ],
       "layout": "IPY_MODEL_1b7d32473b944fcea006bf4218e54acf"
      }
     },
     "1b544e9c45ad46978f244711723e320a": {
      "model_module": "@jupyter-widgets/controls",
      "model_module_version": "1.5.0",
      "model_name": "DescriptionStyleModel",
      "state": {
       "_model_module": "@jupyter-widgets/controls",
       "_model_module_version": "1.5.0",
       "_model_name": "DescriptionStyleModel",
       "_view_count": null,
       "_view_module": "@jupyter-widgets/base",
       "_view_module_version": "1.2.0",
       "_view_name": "StyleView",
       "description_width": ""
      }
     },
     "1b7d32473b944fcea006bf4218e54acf": {
      "model_module": "@jupyter-widgets/base",
      "model_module_version": "1.2.0",
      "model_name": "LayoutModel",
      "state": {
       "_model_module": "@jupyter-widgets/base",
       "_model_module_version": "1.2.0",
       "_model_name": "LayoutModel",
       "_view_count": null,
       "_view_module": "@jupyter-widgets/base",
       "_view_module_version": "1.2.0",
       "_view_name": "LayoutView",
       "align_content": null,
       "align_items": null,
       "align_self": null,
       "border": null,
       "bottom": null,
       "display": null,
       "flex": null,
       "flex_flow": null,
       "grid_area": null,
       "grid_auto_columns": null,
       "grid_auto_flow": null,
       "grid_auto_rows": null,
       "grid_column": null,
       "grid_gap": null,
       "grid_row": null,
       "grid_template_areas": null,
       "grid_template_columns": null,
       "grid_template_rows": null,
       "height": null,
       "justify_content": null,
       "justify_items": null,
       "left": null,
       "margin": null,
       "max_height": null,
       "max_width": null,
       "min_height": null,
       "min_width": null,
       "object_fit": null,
       "object_position": null,
       "order": null,
       "overflow": null,
       "overflow_x": null,
       "overflow_y": null,
       "padding": null,
       "right": null,
       "top": null,
       "visibility": null,
       "width": null
      }
     },
     "3a5e5e62e36e4ab1ab498ca75f167f31": {
      "model_module": "@jupyter-widgets/controls",
      "model_module_version": "1.5.0",
      "model_name": "DescriptionStyleModel",
      "state": {
       "_model_module": "@jupyter-widgets/controls",
       "_model_module_version": "1.5.0",
       "_model_name": "DescriptionStyleModel",
       "_view_count": null,
       "_view_module": "@jupyter-widgets/base",
       "_view_module_version": "1.2.0",
       "_view_name": "StyleView",
       "description_width": ""
      }
     },
     "64de8b4a32964ca3a562273e0cada2de": {
      "model_module": "@jupyter-widgets/controls",
      "model_module_version": "1.5.0",
      "model_name": "HTMLModel",
      "state": {
       "_dom_classes": [],
       "_model_module": "@jupyter-widgets/controls",
       "_model_module_version": "1.5.0",
       "_model_name": "HTMLModel",
       "_view_count": null,
       "_view_module": "@jupyter-widgets/controls",
       "_view_module_version": "1.5.0",
       "_view_name": "HTMLView",
       "description": "",
       "description_tooltip": null,
       "layout": "IPY_MODEL_b9208384593b4564a4540d8a9142bdb5",
       "placeholder": "​",
       "style": "IPY_MODEL_3a5e5e62e36e4ab1ab498ca75f167f31",
       "value": " 10/10 [39:31&lt;00:00, 229.53s/it]"
      }
     },
     "9d7fb602c019482395dc0bfcafd7ec61": {
      "model_module": "@jupyter-widgets/base",
      "model_module_version": "1.2.0",
      "model_name": "LayoutModel",
      "state": {
       "_model_module": "@jupyter-widgets/base",
       "_model_module_version": "1.2.0",
       "_model_name": "LayoutModel",
       "_view_count": null,
       "_view_module": "@jupyter-widgets/base",
       "_view_module_version": "1.2.0",
       "_view_name": "LayoutView",
       "align_content": null,
       "align_items": null,
       "align_self": null,
       "border": null,
       "bottom": null,
       "display": null,
       "flex": null,
       "flex_flow": null,
       "grid_area": null,
       "grid_auto_columns": null,
       "grid_auto_flow": null,
       "grid_auto_rows": null,
       "grid_column": null,
       "grid_gap": null,
       "grid_row": null,
       "grid_template_areas": null,
       "grid_template_columns": null,
       "grid_template_rows": null,
       "height": null,
       "justify_content": null,
       "justify_items": null,
       "left": null,
       "margin": null,
       "max_height": null,
       "max_width": null,
       "min_height": null,
       "min_width": null,
       "object_fit": null,
       "object_position": null,
       "order": null,
       "overflow": null,
       "overflow_x": null,
       "overflow_y": null,
       "padding": null,
       "right": null,
       "top": null,
       "visibility": null,
       "width": null
      }
     },
     "b9208384593b4564a4540d8a9142bdb5": {
      "model_module": "@jupyter-widgets/base",
      "model_module_version": "1.2.0",
      "model_name": "LayoutModel",
      "state": {
       "_model_module": "@jupyter-widgets/base",
       "_model_module_version": "1.2.0",
       "_model_name": "LayoutModel",
       "_view_count": null,
       "_view_module": "@jupyter-widgets/base",
       "_view_module_version": "1.2.0",
       "_view_name": "LayoutView",
       "align_content": null,
       "align_items": null,
       "align_self": null,
       "border": null,
       "bottom": null,
       "display": null,
       "flex": null,
       "flex_flow": null,
       "grid_area": null,
       "grid_auto_columns": null,
       "grid_auto_flow": null,
       "grid_auto_rows": null,
       "grid_column": null,
       "grid_gap": null,
       "grid_row": null,
       "grid_template_areas": null,
       "grid_template_columns": null,
       "grid_template_rows": null,
       "height": null,
       "justify_content": null,
       "justify_items": null,
       "left": null,
       "margin": null,
       "max_height": null,
       "max_width": null,
       "min_height": null,
       "min_width": null,
       "object_fit": null,
       "object_position": null,
       "order": null,
       "overflow": null,
       "overflow_x": null,
       "overflow_y": null,
       "padding": null,
       "right": null,
       "top": null,
       "visibility": null,
       "width": null
      }
     },
     "d1f2158464c9415ba2f571dd2ed63345": {
      "model_module": "@jupyter-widgets/base",
      "model_module_version": "1.2.0",
      "model_name": "LayoutModel",
      "state": {
       "_model_module": "@jupyter-widgets/base",
       "_model_module_version": "1.2.0",
       "_model_name": "LayoutModel",
       "_view_count": null,
       "_view_module": "@jupyter-widgets/base",
       "_view_module_version": "1.2.0",
       "_view_name": "LayoutView",
       "align_content": null,
       "align_items": null,
       "align_self": null,
       "border": null,
       "bottom": null,
       "display": null,
       "flex": null,
       "flex_flow": null,
       "grid_area": null,
       "grid_auto_columns": null,
       "grid_auto_flow": null,
       "grid_auto_rows": null,
       "grid_column": null,
       "grid_gap": null,
       "grid_row": null,
       "grid_template_areas": null,
       "grid_template_columns": null,
       "grid_template_rows": null,
       "height": null,
       "justify_content": null,
       "justify_items": null,
       "left": null,
       "margin": null,
       "max_height": null,
       "max_width": null,
       "min_height": null,
       "min_width": null,
       "object_fit": null,
       "object_position": null,
       "order": null,
       "overflow": null,
       "overflow_x": null,
       "overflow_y": null,
       "padding": null,
       "right": null,
       "top": null,
       "visibility": null,
       "width": null
      }
     },
     "d45be424d16241e38393233510ceb1b6": {
      "model_module": "@jupyter-widgets/controls",
      "model_module_version": "1.5.0",
      "model_name": "ProgressStyleModel",
      "state": {
       "_model_module": "@jupyter-widgets/controls",
       "_model_module_version": "1.5.0",
       "_model_name": "ProgressStyleModel",
       "_view_count": null,
       "_view_module": "@jupyter-widgets/base",
       "_view_module_version": "1.2.0",
       "_view_name": "StyleView",
       "bar_color": null,
       "description_width": ""
      }
     },
     "f0d3c51073c345739245dee44ee1e7d0": {
      "model_module": "@jupyter-widgets/controls",
      "model_module_version": "1.5.0",
      "model_name": "FloatProgressModel",
      "state": {
       "_dom_classes": [],
       "_model_module": "@jupyter-widgets/controls",
       "_model_module_version": "1.5.0",
       "_model_name": "FloatProgressModel",
       "_view_count": null,
       "_view_module": "@jupyter-widgets/controls",
       "_view_module_version": "1.5.0",
       "_view_name": "ProgressView",
       "bar_style": "success",
       "description": "",
       "description_tooltip": null,
       "layout": "IPY_MODEL_9d7fb602c019482395dc0bfcafd7ec61",
       "max": 10.0,
       "min": 0.0,
       "orientation": "horizontal",
       "style": "IPY_MODEL_d45be424d16241e38393233510ceb1b6",
       "value": 10.0
      }
     },
     "fe4a93f15715449c8c0b2dec2927ec36": {
      "model_module": "@jupyter-widgets/controls",
      "model_module_version": "1.5.0",
      "model_name": "HTMLModel",
      "state": {
       "_dom_classes": [],
       "_model_module": "@jupyter-widgets/controls",
       "_model_module_version": "1.5.0",
       "_model_name": "HTMLModel",
       "_view_count": null,
       "_view_module": "@jupyter-widgets/controls",
       "_view_module_version": "1.5.0",
       "_view_name": "HTMLView",
       "description": "",
       "description_tooltip": null,
       "layout": "IPY_MODEL_d1f2158464c9415ba2f571dd2ed63345",
       "placeholder": "​",
       "style": "IPY_MODEL_1b544e9c45ad46978f244711723e320a",
       "value": "100%"
      }
     }
    },
    "version_major": 2,
    "version_minor": 0
   }
  }
 },
 "nbformat": 4,
 "nbformat_minor": 5
}
