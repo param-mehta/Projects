{
 "cells": [
  {
   "cell_type": "markdown",
   "id": "da141931",
   "metadata": {
    "papermill": {
     "duration": 0.019912,
     "end_time": "2021-10-31T22:06:19.806090",
     "exception": false,
     "start_time": "2021-10-31T22:06:19.786178",
     "status": "completed"
    },
    "tags": []
   },
   "source": [
    "# Facial Expression Recognition"
   ]
  },
  {
   "cell_type": "markdown",
   "id": "5c24d1a6",
   "metadata": {
    "papermill": {
     "duration": 0.015766,
     "end_time": "2021-10-31T22:06:19.838453",
     "exception": false,
     "start_time": "2021-10-31T22:06:19.822687",
     "status": "completed"
    },
    "tags": []
   },
   "source": [
    "#### The dataset consists of 48 x 48 grayscale images belonging to 8 different classes. I have trained a basic CNN model on 5 folds for 25 epochs.    "
   ]
  },
  {
   "cell_type": "markdown",
   "id": "d64c7715",
   "metadata": {
    "papermill": {
     "duration": 0.015603,
     "end_time": "2021-10-31T22:06:19.870171",
     "exception": false,
     "start_time": "2021-10-31T22:06:19.854568",
     "status": "completed"
    },
    "tags": []
   },
   "source": [
    "#### Model architecture copied from https://www.kaggle.com/prajwalsood/extended-and-augmented-google-fer-starter"
   ]
  },
  {
   "cell_type": "code",
   "execution_count": 1,
   "id": "01505b5b",
   "metadata": {
    "execution": {
     "iopub.execute_input": "2021-10-31T22:06:19.907917Z",
     "iopub.status.busy": "2021-10-31T22:06:19.906297Z",
     "iopub.status.idle": "2021-10-31T22:06:23.899598Z",
     "shell.execute_reply": "2021-10-31T22:06:23.898840Z",
     "shell.execute_reply.started": "2021-10-31T22:05:18.315145Z"
    },
    "papermill": {
     "duration": 4.013534,
     "end_time": "2021-10-31T22:06:23.899751",
     "exception": false,
     "start_time": "2021-10-31T22:06:19.886217",
     "status": "completed"
    },
    "tags": []
   },
   "outputs": [],
   "source": [
    "import os\n",
    "import numpy as np\n",
    "from tqdm import tqdm\n",
    "from glob import glob\n",
    "from cv2 import imread\n",
    "import matplotlib.pyplot as plt\n",
    "from sklearn.metrics import f1_score\n",
    "from sklearn.model_selection import StratifiedKFold\n",
    "\n",
    "import torch\n",
    "import torch.nn as nn\n",
    "import albumentations as A\n",
    "import torch.optim as optim\n",
    "from torch.nn import functional as F\n",
    "from torch.optim import lr_scheduler\n",
    "import torchvision.transforms as T\n",
    "from torch.utils.data import Dataset, DataLoader,SubsetRandomSampler,ConcatDataset"
   ]
  },
  {
   "cell_type": "markdown",
   "id": "0c40b7e1",
   "metadata": {
    "papermill": {
     "duration": 0.016257,
     "end_time": "2021-10-31T22:06:23.932516",
     "exception": false,
     "start_time": "2021-10-31T22:06:23.916259",
     "status": "completed"
    },
    "tags": []
   },
   "source": [
    "### Config"
   ]
  },
  {
   "cell_type": "code",
   "execution_count": 2,
   "id": "e3f20475",
   "metadata": {
    "execution": {
     "iopub.execute_input": "2021-10-31T22:06:24.013130Z",
     "iopub.status.busy": "2021-10-31T22:06:24.012465Z",
     "iopub.status.idle": "2021-10-31T22:06:24.029993Z",
     "shell.execute_reply": "2021-10-31T22:06:24.029527Z",
     "shell.execute_reply.started": "2021-10-31T22:05:22.017823Z"
    },
    "papermill": {
     "duration": 0.081531,
     "end_time": "2021-10-31T22:06:24.030123",
     "exception": false,
     "start_time": "2021-10-31T22:06:23.948592",
     "status": "completed"
    },
    "tags": []
   },
   "outputs": [],
   "source": [
    "device = torch.device(\"cuda:0\" if torch.cuda.is_available() else \"cpu\")\n",
    "train_path = '../input/google-fer-image-format/train'\n",
    "test_path = '../input/google-fer-image-format/val'\n",
    "num_epochs = 25\n",
    "batch_size = 128\n",
    "k = 5\n",
    "emotions = sorted(os.listdir(train_path))"
   ]
  },
  {
   "cell_type": "code",
   "execution_count": 3,
   "id": "41c12485",
   "metadata": {
    "execution": {
     "iopub.execute_input": "2021-10-31T22:06:24.067253Z",
     "iopub.status.busy": "2021-10-31T22:06:24.066623Z",
     "iopub.status.idle": "2021-10-31T22:06:24.069793Z",
     "shell.execute_reply": "2021-10-31T22:06:24.070243Z",
     "shell.execute_reply.started": "2021-10-31T22:05:22.086763Z"
    },
    "papermill": {
     "duration": 0.024007,
     "end_time": "2021-10-31T22:06:24.070377",
     "exception": false,
     "start_time": "2021-10-31T22:06:24.046370",
     "status": "completed"
    },
    "tags": []
   },
   "outputs": [
    {
     "name": "stdout",
     "output_type": "stream",
     "text": [
      "['ANGER', 'CONTEMPT', 'DISGUST', 'FEAR', 'HAPPINESS', 'NEUTRAL', 'SADNESS', 'SURPRISE']\n"
     ]
    }
   ],
   "source": [
    "print(emotions)"
   ]
  },
  {
   "cell_type": "markdown",
   "id": "7000d32b",
   "metadata": {
    "papermill": {
     "duration": 0.016126,
     "end_time": "2021-10-31T22:06:24.103439",
     "exception": false,
     "start_time": "2021-10-31T22:06:24.087313",
     "status": "completed"
    },
    "tags": []
   },
   "source": [
    "### Dataset class"
   ]
  },
  {
   "cell_type": "code",
   "execution_count": 4,
   "id": "e1dffafa",
   "metadata": {
    "execution": {
     "iopub.execute_input": "2021-10-31T22:06:24.146642Z",
     "iopub.status.busy": "2021-10-31T22:06:24.145798Z",
     "iopub.status.idle": "2021-10-31T22:06:24.147622Z",
     "shell.execute_reply": "2021-10-31T22:06:24.148310Z",
     "shell.execute_reply.started": "2021-10-31T22:05:22.095427Z"
    },
    "papermill": {
     "duration": 0.028389,
     "end_time": "2021-10-31T22:06:24.148433",
     "exception": false,
     "start_time": "2021-10-31T22:06:24.120044",
     "status": "completed"
    },
    "tags": []
   },
   "outputs": [],
   "source": [
    "class face_dataset(Dataset):\n",
    "    def __init__(self,path,augmentation):\n",
    "        \n",
    "        self.augmentation = augmentation\n",
    "        \n",
    "        self.transform1 = T.Compose([\n",
    "            T.ToPILImage(),\n",
    "            T.Grayscale(num_output_channels=1)\n",
    "            ])\n",
    "               \n",
    "        self.augment = A.Compose([            \n",
    "            A.augmentations.geometric.rotate.Rotate(limit = (-5,5),p = 0.5),\n",
    "            A.augmentations.transforms.GaussNoise()  \n",
    "            ])\n",
    "        \n",
    "        self.transform2 = T.Compose([\n",
    "            T.ToTensor(),\n",
    "            T.Normalize([0.5],[0.5])\n",
    "            ])\n",
    "        \n",
    "        self.images = []\n",
    "        self.labels = []\n",
    "        \n",
    "        for i,emotion in enumerate(emotions):\n",
    "            image_paths = glob(f'{path}/{emotion}/*.jpg')\n",
    "            self.images.extend(image_paths)\n",
    "            self.labels.extend([i]*len(image_paths))\n",
    "\n",
    "    def __len__(self):\n",
    "        return (len(self.images))\n",
    "    \n",
    "    def __getitem__(self, i):\n",
    "        image = imread(self.images[i])\n",
    "        label = self.labels[i]\n",
    "        \n",
    "        image = self.transform1(image)\n",
    "        if self.augmentation:\n",
    "            image = self.augment(image = np.array(image))['image']\n",
    "        image = self.transform2(image)\n",
    "    \n",
    "        return image,label    "
   ]
  },
  {
   "cell_type": "markdown",
   "id": "d8cd640a",
   "metadata": {
    "papermill": {
     "duration": 0.016017,
     "end_time": "2021-10-31T22:06:24.180628",
     "exception": false,
     "start_time": "2021-10-31T22:06:24.164611",
     "status": "completed"
    },
    "tags": []
   },
   "source": [
    "### Train dataset"
   ]
  },
  {
   "cell_type": "code",
   "execution_count": 5,
   "id": "c5c04571",
   "metadata": {
    "execution": {
     "iopub.execute_input": "2021-10-31T22:06:24.217619Z",
     "iopub.status.busy": "2021-10-31T22:06:24.217114Z",
     "iopub.status.idle": "2021-10-31T22:06:26.428249Z",
     "shell.execute_reply": "2021-10-31T22:06:26.428639Z",
     "shell.execute_reply.started": "2021-10-31T22:05:22.111009Z"
    },
    "papermill": {
     "duration": 2.231942,
     "end_time": "2021-10-31T22:06:26.428789",
     "exception": false,
     "start_time": "2021-10-31T22:06:24.196847",
     "status": "completed"
    },
    "tags": []
   },
   "outputs": [
    {
     "name": "stdout",
     "output_type": "stream",
     "text": [
      "65290\n"
     ]
    }
   ],
   "source": [
    "train = face_dataset(train_path,False)\n",
    "augmented = face_dataset(train_path,True)\n",
    "targets = np.array(train.labels * 2)\n",
    "train = ConcatDataset([train,augmented])\n",
    "print(len(train))"
   ]
  },
  {
   "cell_type": "markdown",
   "id": "f3da6667",
   "metadata": {
    "papermill": {
     "duration": 0.016497,
     "end_time": "2021-10-31T22:06:26.462339",
     "exception": false,
     "start_time": "2021-10-31T22:06:26.445842",
     "status": "completed"
    },
    "tags": []
   },
   "source": [
    "### Test dataset"
   ]
  },
  {
   "cell_type": "code",
   "execution_count": 6,
   "id": "d3237e01",
   "metadata": {
    "execution": {
     "iopub.execute_input": "2021-10-31T22:06:26.499220Z",
     "iopub.status.busy": "2021-10-31T22:06:26.498698Z",
     "iopub.status.idle": "2021-10-31T22:06:27.847807Z",
     "shell.execute_reply": "2021-10-31T22:06:27.848429Z",
     "shell.execute_reply.started": "2021-10-31T22:05:23.346011Z"
    },
    "papermill": {
     "duration": 1.369932,
     "end_time": "2021-10-31T22:06:27.848628",
     "exception": false,
     "start_time": "2021-10-31T22:06:26.478696",
     "status": "completed"
    },
    "tags": []
   },
   "outputs": [
    {
     "name": "stdout",
     "output_type": "stream",
     "text": [
      "8166\n"
     ]
    },
    {
     "name": "stderr",
     "output_type": "stream",
     "text": [
      "/opt/conda/lib/python3.7/site-packages/torch/utils/data/dataloader.py:481: UserWarning: This DataLoader will create 4 worker processes in total. Our suggested max number of worker in current system is 2, which is smaller than what this DataLoader is going to create. Please be aware that excessive worker creation might get DataLoader running slow or even freeze, lower the worker number to avoid potential slowness/freeze if necessary.\n",
      "  cpuset_checked))\n"
     ]
    }
   ],
   "source": [
    "test = face_dataset(test_path,False)\n",
    "print(len(test))\n",
    "test_data_loader = DataLoader(dataset = test, batch_size = batch_size, shuffle=True, num_workers=4)"
   ]
  },
  {
   "cell_type": "markdown",
   "id": "e0d62407",
   "metadata": {
    "papermill": {
     "duration": 0.017369,
     "end_time": "2021-10-31T22:06:27.884240",
     "exception": false,
     "start_time": "2021-10-31T22:06:27.866871",
     "status": "completed"
    },
    "tags": []
   },
   "source": [
    "### Plotting a random image"
   ]
  },
  {
   "cell_type": "code",
   "execution_count": 7,
   "id": "8d695d45",
   "metadata": {
    "_kg_hide-input": false,
    "execution": {
     "iopub.execute_input": "2021-10-31T22:06:27.923517Z",
     "iopub.status.busy": "2021-10-31T22:06:27.922880Z",
     "iopub.status.idle": "2021-10-31T22:06:28.186324Z",
     "shell.execute_reply": "2021-10-31T22:06:28.186909Z",
     "shell.execute_reply.started": "2021-10-31T22:05:24.016074Z"
    },
    "papermill": {
     "duration": 0.28509,
     "end_time": "2021-10-31T22:06:28.187113",
     "exception": false,
     "start_time": "2021-10-31T22:06:27.902023",
     "status": "completed"
    },
    "tags": []
   },
   "outputs": [
    {
     "data": {
      "image/png": "[encoded data removed]",
      "text/plain": [
       "<Figure size 432x288 with 1 Axes>"
      ]
     },
     "metadata": {
      "needs_background": "light"
     },
     "output_type": "display_data"
    },
    {
     "name": "stdout",
     "output_type": "stream",
     "text": [
      "SURPRISE\n"
     ]
    }
   ],
   "source": [
    "x,y = train[65000]\n",
    "arr = x.numpy().reshape(48,48)\n",
    "plt.imshow(arr, cmap = 'gray')\n",
    "plt.show()\n",
    "print(emotions[y])"
   ]
  },
  {
   "cell_type": "markdown",
   "id": "a1e15fdd",
   "metadata": {
    "papermill": {
     "duration": 0.018067,
     "end_time": "2021-10-31T22:06:28.224689",
     "exception": false,
     "start_time": "2021-10-31T22:06:28.206622",
     "status": "completed"
    },
    "tags": []
   },
   "source": [
    "### Defining functions for training and validation epochs"
   ]
  },
  {
   "cell_type": "code",
   "execution_count": 8,
   "id": "e420efb1",
   "metadata": {
    "execution": {
     "iopub.execute_input": "2021-10-31T22:06:28.269922Z",
     "iopub.status.busy": "2021-10-31T22:06:28.269110Z",
     "iopub.status.idle": "2021-10-31T22:06:28.271092Z",
     "shell.execute_reply": "2021-10-31T22:06:28.271541Z",
     "shell.execute_reply.started": "2021-10-31T22:05:24.296343Z"
    },
    "papermill": {
     "duration": 0.029146,
     "end_time": "2021-10-31T22:06:28.271670",
     "exception": false,
     "start_time": "2021-10-31T22:06:28.242524",
     "status": "completed"
    },
    "tags": []
   },
   "outputs": [],
   "source": [
    "def train_epoch(model,device,dataloader,loss_fn,optimizer):\n",
    "    train_loss,train_correct=0.0,0\n",
    "    model.train()\n",
    "    for images,labels in tqdm(dataloader):\n",
    "        images,labels = images.to(device),labels.to(device)\n",
    "        optimizer.zero_grad()\n",
    "        output = model(images)\n",
    "        loss = loss_fn(output,labels)\n",
    "        loss.backward()\n",
    "        optimizer.step()\n",
    "        train_loss += loss.item() * images.size(0)\n",
    "        scores, predictions = torch.max(output.data, 1)\n",
    "        train_correct += (predictions == labels).sum().item()\n",
    "\n",
    "    return train_loss,train_correct\n",
    "  \n",
    "def valid_epoch(model,device,dataloader,loss_fn):\n",
    "    valid_loss, val_correct = 0.0, 0\n",
    "    with torch.no_grad():\n",
    "        for images, labels in dataloader:\n",
    "            images,labels = images.to(device),labels.to(device)\n",
    "            output = model(images)\n",
    "            loss=loss_fn(output,labels)\n",
    "            valid_loss+=loss.item()*images.size(0)\n",
    "            scores, predictions = torch.max(output.data,1)\n",
    "            val_correct+=(predictions == labels).sum().item()\n",
    "    return valid_loss,val_correct"
   ]
  },
  {
   "cell_type": "markdown",
   "id": "43ddfbb4",
   "metadata": {
    "papermill": {
     "duration": 0.018127,
     "end_time": "2021-10-31T22:06:28.307734",
     "exception": false,
     "start_time": "2021-10-31T22:06:28.289607",
     "status": "completed"
    },
    "tags": []
   },
   "source": [
    "### Model Architecture"
   ]
  },
  {
   "cell_type": "code",
   "execution_count": 9,
   "id": "7040825b",
   "metadata": {
    "execution": {
     "iopub.execute_input": "2021-10-31T22:06:28.357828Z",
     "iopub.status.busy": "2021-10-31T22:06:28.357011Z",
     "iopub.status.idle": "2021-10-31T22:06:28.359500Z",
     "shell.execute_reply": "2021-10-31T22:06:28.359091Z",
     "shell.execute_reply.started": "2021-10-31T22:05:24.307679Z"
    },
    "papermill": {
     "duration": 0.033353,
     "end_time": "2021-10-31T22:06:28.359607",
     "exception": false,
     "start_time": "2021-10-31T22:06:28.326254",
     "status": "completed"
    },
    "tags": []
   },
   "outputs": [],
   "source": [
    "class ConvNet2(nn.Module):\n",
    "    def __init__(self):\n",
    "        super(ConvNet2, self).__init__()\n",
    "      \n",
    "        self.c1 = nn.Conv2d(1,32,3,padding = 1)\n",
    "        self.c2 = nn.Conv2d(32,64,3,padding = 1)\n",
    "        self.c3 = nn.Conv2d(64,128,5,padding = 2)\n",
    "        self.c4 = nn.Conv2d(128,512,3,padding = 1)\n",
    "        self.c5 = nn.Conv2d(512,512,3,padding = 1)\n",
    "        \n",
    "        self.bn1 = nn.BatchNorm2d(64)\n",
    "        self.bn2 = nn.BatchNorm2d(128)\n",
    "        self.bn3 = nn.BatchNorm2d(512)\n",
    "        self.bn4 = nn.BatchNorm2d(512)\n",
    "        self.bn5 = nn.BatchNorm1d(256)\n",
    "        self.bn6 = nn.BatchNorm1d(512) \n",
    "        \n",
    "        self.l1 = nn.Linear(512*3*3,256)   \n",
    "        self.l2 = nn.Linear(256,512)      \n",
    "        self.l3 = nn.Linear(512,8)\n",
    "        \n",
    "        self.relu = nn.ReLU()\n",
    "        self.pool = nn.MaxPool2d(2, 2)\n",
    "        self.dropout = nn.Dropout(0.25)\n",
    "        \n",
    "        \n",
    "    def forward(self, x):\n",
    "        x = F.relu(self.c1(x)) \n",
    "        x = F.relu(self.c2(x)) \n",
    "        x = self.dropout(self.pool(self.bn1(x)))\n",
    "        x = F.relu(self.c3(x))\n",
    "        x = self.dropout(self.pool(self.bn2(x)))\n",
    "        x = F.relu(self.c4(x))\n",
    "        x = self.dropout(self.pool(self.bn3(x)))\n",
    "        x = F.relu(self.c5(x))\n",
    "        x = self.dropout(self.pool(self.bn4(x)))\n",
    "    \n",
    "        x = x.view(-1, 512 * 3 * 3)            \n",
    "        x = self.bn5(F.relu(self.l1(x)))              \n",
    "        x = self.bn6(F.relu(self.l2(x)))               \n",
    "        x = self.l3(x) \n",
    "        return x\n",
    "\n",
    "criterion = nn.CrossEntropyLoss()"
   ]
  },
  {
   "cell_type": "markdown",
   "id": "b043535b",
   "metadata": {
    "papermill": {
     "duration": 0.01813,
     "end_time": "2021-10-31T22:06:28.395677",
     "exception": false,
     "start_time": "2021-10-31T22:06:28.377547",
     "status": "completed"
    },
    "tags": []
   },
   "source": [
    "### Training and evaluating model through cross validation "
   ]
  },
  {
   "cell_type": "code",
   "execution_count": 10,
   "id": "6817b494",
   "metadata": {
    "execution": {
     "iopub.execute_input": "2021-10-31T22:06:28.443178Z",
     "iopub.status.busy": "2021-10-31T22:06:28.442329Z",
     "iopub.status.idle": "2021-11-01T02:07:28.211730Z",
     "shell.execute_reply": "2021-11-01T02:07:28.210740Z",
     "shell.execute_reply.started": "2021-10-31T22:05:24.324229Z"
    },
    "papermill": {
     "duration": 14459.798008,
     "end_time": "2021-11-01T02:07:28.211881",
     "exception": false,
     "start_time": "2021-10-31T22:06:28.413873",
     "status": "completed"
    },
    "tags": []
   },
   "outputs": [
    {
     "name": "stdout",
     "output_type": "stream",
     "text": [
      "Fold 1\n"
     ]
    },
    {
     "name": "stderr",
     "output_type": "stream",
     "text": [
      "100%|██████████| 409/409 [02:49<00:00,  2.42it/s]\n"
     ]
    },
    {
     "name": "stdout",
     "output_type": "stream",
     "text": [
      "Epoch:1/25 AVG Training Loss:1.501 AVG Validation Loss:1.269 AVG Training Acc 41.25 % AVG Validation Acc 51.42 %\n"
     ]
    },
    {
     "name": "stderr",
     "output_type": "stream",
     "text": [
      "100%|██████████| 409/409 [01:23<00:00,  4.92it/s]\n"
     ]
    },
    {
     "name": "stdout",
     "output_type": "stream",
     "text": [
      "Epoch:2/25 AVG Training Loss:1.131 AVG Validation Loss:1.084 AVG Training Acc 56.85 % AVG Validation Acc 58.79 %\n"
     ]
    },
    {
     "name": "stderr",
     "output_type": "stream",
     "text": [
      "100%|██████████| 409/409 [01:23<00:00,  4.90it/s]\n"
     ]
    },
    {
     "name": "stdout",
     "output_type": "stream",
     "text": [
      "Epoch:3/25 AVG Training Loss:0.977 AVG Validation Loss:0.996 AVG Training Acc 63.05 % AVG Validation Acc 62.99 %\n"
     ]
    },
    {
     "name": "stderr",
     "output_type": "stream",
     "text": [
      "100%|██████████| 409/409 [01:27<00:00,  4.68it/s]\n"
     ]
    },
    {
     "name": "stdout",
     "output_type": "stream",
     "text": [
      "Epoch:4/25 AVG Training Loss:0.891 AVG Validation Loss:0.955 AVG Training Acc 66.61 % AVG Validation Acc 64.73 %\n"
     ]
    },
    {
     "name": "stderr",
     "output_type": "stream",
     "text": [
      "100%|██████████| 409/409 [01:23<00:00,  4.89it/s]\n"
     ]
    },
    {
     "name": "stdout",
     "output_type": "stream",
     "text": [
      "Epoch:5/25 AVG Training Loss:0.761 AVG Validation Loss:0.848 AVG Training Acc 71.94 % AVG Validation Acc 69.42 %\n"
     ]
    },
    {
     "name": "stderr",
     "output_type": "stream",
     "text": [
      "100%|██████████| 409/409 [01:23<00:00,  4.89it/s]\n"
     ]
    },
    {
     "name": "stdout",
     "output_type": "stream",
     "text": [
      "Epoch:6/25 AVG Training Loss:0.686 AVG Validation Loss:0.793 AVG Training Acc 74.88 % AVG Validation Acc 72.23 %\n"
     ]
    },
    {
     "name": "stderr",
     "output_type": "stream",
     "text": [
      "100%|██████████| 409/409 [01:23<00:00,  4.90it/s]\n"
     ]
    },
    {
     "name": "stdout",
     "output_type": "stream",
     "text": [
      "Epoch:7/25 AVG Training Loss:0.603 AVG Validation Loss:0.830 AVG Training Acc 77.96 % AVG Validation Acc 70.00 %\n"
     ]
    },
    {
     "name": "stderr",
     "output_type": "stream",
     "text": [
      "100%|██████████| 409/409 [01:24<00:00,  4.86it/s]\n"
     ]
    },
    {
     "name": "stdout",
     "output_type": "stream",
     "text": [
      "Epoch:8/25 AVG Training Loss:0.474 AVG Validation Loss:0.727 AVG Training Acc 83.02 % AVG Validation Acc 74.88 %\n"
     ]
    },
    {
     "name": "stderr",
     "output_type": "stream",
     "text": [
      "100%|██████████| 409/409 [01:34<00:00,  4.34it/s]\n"
     ]
    },
    {
     "name": "stdout",
     "output_type": "stream",
     "text": [
      "Epoch:9/25 AVG Training Loss:0.384 AVG Validation Loss:0.681 AVG Training Acc 86.22 % AVG Validation Acc 77.09 %\n"
     ]
    },
    {
     "name": "stderr",
     "output_type": "stream",
     "text": [
      "100%|██████████| 409/409 [01:36<00:00,  4.24it/s]\n"
     ]
    },
    {
     "name": "stdout",
     "output_type": "stream",
     "text": [
      "Epoch:10/25 AVG Training Loss:0.332 AVG Validation Loss:0.671 AVG Training Acc 88.22 % AVG Validation Acc 78.35 %\n"
     ]
    },
    {
     "name": "stderr",
     "output_type": "stream",
     "text": [
      "100%|██████████| 409/409 [01:37<00:00,  4.18it/s]\n"
     ]
    },
    {
     "name": "stdout",
     "output_type": "stream",
     "text": [
      "Epoch:11/25 AVG Training Loss:0.294 AVG Validation Loss:0.649 AVG Training Acc 89.69 % AVG Validation Acc 79.19 %\n"
     ]
    },
    {
     "name": "stderr",
     "output_type": "stream",
     "text": [
      "100%|██████████| 409/409 [01:37<00:00,  4.19it/s]\n"
     ]
    },
    {
     "name": "stdout",
     "output_type": "stream",
     "text": [
      "Epoch:12/25 AVG Training Loss:0.260 AVG Validation Loss:0.633 AVG Training Acc 90.88 % AVG Validation Acc 80.37 %\n"
     ]
    },
    {
     "name": "stderr",
     "output_type": "stream",
     "text": [
      "100%|██████████| 409/409 [01:27<00:00,  4.66it/s]\n"
     ]
    },
    {
     "name": "stdout",
     "output_type": "stream",
     "text": [
      "Epoch:13/25 AVG Training Loss:0.237 AVG Validation Loss:0.613 AVG Training Acc 91.70 % AVG Validation Acc 81.45 %\n"
     ]
    },
    {
     "name": "stderr",
     "output_type": "stream",
     "text": [
      "100%|██████████| 409/409 [01:26<00:00,  4.74it/s]\n"
     ]
    },
    {
     "name": "stdout",
     "output_type": "stream",
     "text": [
      "Epoch:14/25 AVG Training Loss:0.220 AVG Validation Loss:0.601 AVG Training Acc 92.30 % AVG Validation Acc 82.36 %\n"
     ]
    },
    {
     "name": "stderr",
     "output_type": "stream",
     "text": [
      "100%|██████████| 409/409 [01:22<00:00,  4.93it/s]\n"
     ]
    },
    {
     "name": "stdout",
     "output_type": "stream",
     "text": [
      "Epoch:15/25 AVG Training Loss:0.195 AVG Validation Loss:0.600 AVG Training Acc 93.15 % AVG Validation Acc 82.13 %\n"
     ]
    },
    {
     "name": "stderr",
     "output_type": "stream",
     "text": [
      "100%|██████████| 409/409 [01:23<00:00,  4.91it/s]\n"
     ]
    },
    {
     "name": "stdout",
     "output_type": "stream",
     "text": [
      "Epoch:16/25 AVG Training Loss:0.189 AVG Validation Loss:0.600 AVG Training Acc 93.39 % AVG Validation Acc 81.97 %\n"
     ]
    },
    {
     "name": "stderr",
     "output_type": "stream",
     "text": [
      "100%|██████████| 409/409 [01:23<00:00,  4.90it/s]\n"
     ]
    },
    {
     "name": "stdout",
     "output_type": "stream",
     "text": [
      "Epoch:17/25 AVG Training Loss:0.188 AVG Validation Loss:0.585 AVG Training Acc 93.45 % AVG Validation Acc 82.33 %\n"
     ]
    },
    {
     "name": "stderr",
     "output_type": "stream",
     "text": [
      "100%|██████████| 409/409 [01:23<00:00,  4.88it/s]\n"
     ]
    },
    {
     "name": "stdout",
     "output_type": "stream",
     "text": [
      "Epoch:18/25 AVG Training Loss:0.185 AVG Validation Loss:0.592 AVG Training Acc 93.48 % AVG Validation Acc 82.64 %\n"
     ]
    },
    {
     "name": "stderr",
     "output_type": "stream",
     "text": [
      "100%|██████████| 409/409 [01:24<00:00,  4.85it/s]\n"
     ]
    },
    {
     "name": "stdout",
     "output_type": "stream",
     "text": [
      "Epoch:19/25 AVG Training Loss:0.182 AVG Validation Loss:0.607 AVG Training Acc 93.72 % AVG Validation Acc 82.34 %\n"
     ]
    },
    {
     "name": "stderr",
     "output_type": "stream",
     "text": [
      "100%|██████████| 409/409 [01:23<00:00,  4.89it/s]\n"
     ]
    },
    {
     "name": "stdout",
     "output_type": "stream",
     "text": [
      "Epoch:20/25 AVG Training Loss:0.179 AVG Validation Loss:0.584 AVG Training Acc 93.77 % AVG Validation Acc 83.32 %\n"
     ]
    },
    {
     "name": "stderr",
     "output_type": "stream",
     "text": [
      "100%|██████████| 409/409 [01:24<00:00,  4.85it/s]\n"
     ]
    },
    {
     "name": "stdout",
     "output_type": "stream",
     "text": [
      "Epoch:21/25 AVG Training Loss:0.178 AVG Validation Loss:0.588 AVG Training Acc 93.71 % AVG Validation Acc 82.65 %\n"
     ]
    },
    {
     "name": "stderr",
     "output_type": "stream",
     "text": [
      "100%|██████████| 409/409 [01:27<00:00,  4.65it/s]\n"
     ]
    },
    {
     "name": "stdout",
     "output_type": "stream",
     "text": [
      "Epoch:22/25 AVG Training Loss:0.176 AVG Validation Loss:0.585 AVG Training Acc 93.89 % AVG Validation Acc 83.17 %\n"
     ]
    },
    {
     "name": "stderr",
     "output_type": "stream",
     "text": [
      "100%|██████████| 409/409 [01:23<00:00,  4.88it/s]\n"
     ]
    },
    {
     "name": "stdout",
     "output_type": "stream",
     "text": [
      "Epoch:23/25 AVG Training Loss:0.176 AVG Validation Loss:0.588 AVG Training Acc 93.85 % AVG Validation Acc 83.05 %\n"
     ]
    },
    {
     "name": "stderr",
     "output_type": "stream",
     "text": [
      "100%|██████████| 409/409 [01:25<00:00,  4.80it/s]\n"
     ]
    },
    {
     "name": "stdout",
     "output_type": "stream",
     "text": [
      "Epoch:24/25 AVG Training Loss:0.173 AVG Validation Loss:0.590 AVG Training Acc 93.98 % AVG Validation Acc 83.14 %\n"
     ]
    },
    {
     "name": "stderr",
     "output_type": "stream",
     "text": [
      "100%|██████████| 409/409 [01:25<00:00,  4.77it/s]\n"
     ]
    },
    {
     "name": "stdout",
     "output_type": "stream",
     "text": [
      "Epoch:25/25 AVG Training Loss:0.173 AVG Validation Loss:0.581 AVG Training Acc 94.07 % AVG Validation Acc 83.19 %\n",
      "Fold 2\n"
     ]
    },
    {
     "name": "stderr",
     "output_type": "stream",
     "text": [
      "100%|██████████| 409/409 [01:23<00:00,  4.89it/s]\n"
     ]
    },
    {
     "name": "stdout",
     "output_type": "stream",
     "text": [
      "Epoch:1/25 AVG Training Loss:1.540 AVG Validation Loss:1.317 AVG Training Acc 39.44 % AVG Validation Acc 49.54 %\n"
     ]
    },
    {
     "name": "stderr",
     "output_type": "stream",
     "text": [
      "100%|██████████| 409/409 [01:43<00:00,  3.94it/s]\n"
     ]
    },
    {
     "name": "stdout",
     "output_type": "stream",
     "text": [
      "Epoch:2/25 AVG Training Loss:1.155 AVG Validation Loss:1.082 AVG Training Acc 55.54 % AVG Validation Acc 59.04 %\n"
     ]
    },
    {
     "name": "stderr",
     "output_type": "stream",
     "text": [
      "100%|██████████| 409/409 [01:22<00:00,  4.96it/s]\n"
     ]
    },
    {
     "name": "stdout",
     "output_type": "stream",
     "text": [
      "Epoch:3/25 AVG Training Loss:1.052 AVG Validation Loss:0.984 AVG Training Acc 59.92 % AVG Validation Acc 62.68 %\n"
     ]
    },
    {
     "name": "stderr",
     "output_type": "stream",
     "text": [
      "100%|██████████| 409/409 [01:23<00:00,  4.93it/s]\n"
     ]
    },
    {
     "name": "stdout",
     "output_type": "stream",
     "text": [
      "Epoch:4/25 AVG Training Loss:0.906 AVG Validation Loss:0.900 AVG Training Acc 66.32 % AVG Validation Acc 66.59 %\n"
     ]
    },
    {
     "name": "stderr",
     "output_type": "stream",
     "text": [
      "100%|██████████| 409/409 [01:23<00:00,  4.91it/s]\n"
     ]
    },
    {
     "name": "stdout",
     "output_type": "stream",
     "text": [
      "Epoch:5/25 AVG Training Loss:0.779 AVG Validation Loss:0.852 AVG Training Acc 71.33 % AVG Validation Acc 68.62 %\n"
     ]
    },
    {
     "name": "stderr",
     "output_type": "stream",
     "text": [
      "100%|██████████| 409/409 [01:24<00:00,  4.85it/s]\n"
     ]
    },
    {
     "name": "stdout",
     "output_type": "stream",
     "text": [
      "Epoch:6/25 AVG Training Loss:0.729 AVG Validation Loss:0.849 AVG Training Acc 73.23 % AVG Validation Acc 69.18 %\n"
     ]
    },
    {
     "name": "stderr",
     "output_type": "stream",
     "text": [
      "100%|██████████| 409/409 [01:23<00:00,  4.88it/s]\n"
     ]
    },
    {
     "name": "stdout",
     "output_type": "stream",
     "text": [
      "Epoch:7/25 AVG Training Loss:0.617 AVG Validation Loss:0.778 AVG Training Acc 77.67 % AVG Validation Acc 72.28 %\n"
     ]
    },
    {
     "name": "stderr",
     "output_type": "stream",
     "text": [
      "100%|██████████| 409/409 [01:23<00:00,  4.87it/s]\n"
     ]
    },
    {
     "name": "stdout",
     "output_type": "stream",
     "text": [
      "Epoch:8/25 AVG Training Loss:0.459 AVG Validation Loss:0.687 AVG Training Acc 83.69 % AVG Validation Acc 76.29 %\n"
     ]
    },
    {
     "name": "stderr",
     "output_type": "stream",
     "text": [
      "100%|██████████| 409/409 [01:25<00:00,  4.80it/s]\n"
     ]
    },
    {
     "name": "stdout",
     "output_type": "stream",
     "text": [
      "Epoch:9/25 AVG Training Loss:0.373 AVG Validation Loss:0.678 AVG Training Acc 86.71 % AVG Validation Acc 77.09 %\n"
     ]
    },
    {
     "name": "stderr",
     "output_type": "stream",
     "text": [
      "100%|██████████| 409/409 [01:24<00:00,  4.84it/s]\n"
     ]
    },
    {
     "name": "stdout",
     "output_type": "stream",
     "text": [
      "Epoch:10/25 AVG Training Loss:0.325 AVG Validation Loss:0.657 AVG Training Acc 88.57 % AVG Validation Acc 78.34 %\n"
     ]
    },
    {
     "name": "stderr",
     "output_type": "stream",
     "text": [
      "100%|██████████| 409/409 [01:23<00:00,  4.92it/s]\n"
     ]
    },
    {
     "name": "stdout",
     "output_type": "stream",
     "text": [
      "Epoch:11/25 AVG Training Loss:0.290 AVG Validation Loss:0.634 AVG Training Acc 89.87 % AVG Validation Acc 79.48 %\n"
     ]
    },
    {
     "name": "stderr",
     "output_type": "stream",
     "text": [
      "100%|██████████| 409/409 [01:23<00:00,  4.90it/s]\n"
     ]
    },
    {
     "name": "stdout",
     "output_type": "stream",
     "text": [
      "Epoch:12/25 AVG Training Loss:0.259 AVG Validation Loss:0.626 AVG Training Acc 90.98 % AVG Validation Acc 80.28 %\n"
     ]
    },
    {
     "name": "stderr",
     "output_type": "stream",
     "text": [
      "100%|██████████| 409/409 [01:24<00:00,  4.85it/s]\n"
     ]
    },
    {
     "name": "stdout",
     "output_type": "stream",
     "text": [
      "Epoch:13/25 AVG Training Loss:0.235 AVG Validation Loss:0.610 AVG Training Acc 91.87 % AVG Validation Acc 80.91 %\n"
     ]
    },
    {
     "name": "stderr",
     "output_type": "stream",
     "text": [
      "100%|██████████| 409/409 [01:24<00:00,  4.83it/s]\n"
     ]
    },
    {
     "name": "stdout",
     "output_type": "stream",
     "text": [
      "Epoch:14/25 AVG Training Loss:0.218 AVG Validation Loss:0.583 AVG Training Acc 92.27 % AVG Validation Acc 82.04 %\n"
     ]
    },
    {
     "name": "stderr",
     "output_type": "stream",
     "text": [
      "100%|██████████| 409/409 [01:24<00:00,  4.86it/s]\n"
     ]
    },
    {
     "name": "stdout",
     "output_type": "stream",
     "text": [
      "Epoch:15/25 AVG Training Loss:0.194 AVG Validation Loss:0.586 AVG Training Acc 93.25 % AVG Validation Acc 82.03 %\n"
     ]
    },
    {
     "name": "stderr",
     "output_type": "stream",
     "text": [
      "100%|██████████| 409/409 [01:24<00:00,  4.86it/s]\n"
     ]
    },
    {
     "name": "stdout",
     "output_type": "stream",
     "text": [
      "Epoch:16/25 AVG Training Loss:0.194 AVG Validation Loss:0.578 AVG Training Acc 93.20 % AVG Validation Acc 82.62 %\n"
     ]
    },
    {
     "name": "stderr",
     "output_type": "stream",
     "text": [
      "100%|██████████| 409/409 [01:22<00:00,  4.93it/s]\n"
     ]
    },
    {
     "name": "stdout",
     "output_type": "stream",
     "text": [
      "Epoch:17/25 AVG Training Loss:0.190 AVG Validation Loss:0.601 AVG Training Acc 93.51 % AVG Validation Acc 82.25 %\n"
     ]
    },
    {
     "name": "stderr",
     "output_type": "stream",
     "text": [
      "100%|██████████| 409/409 [01:23<00:00,  4.90it/s]\n"
     ]
    },
    {
     "name": "stdout",
     "output_type": "stream",
     "text": [
      "Epoch:18/25 AVG Training Loss:0.184 AVG Validation Loss:0.588 AVG Training Acc 93.50 % AVG Validation Acc 82.56 %\n"
     ]
    },
    {
     "name": "stderr",
     "output_type": "stream",
     "text": [
      "100%|██████████| 409/409 [01:23<00:00,  4.92it/s]\n"
     ]
    },
    {
     "name": "stdout",
     "output_type": "stream",
     "text": [
      "Epoch:19/25 AVG Training Loss:0.184 AVG Validation Loss:0.593 AVG Training Acc 93.61 % AVG Validation Acc 82.59 %\n"
     ]
    },
    {
     "name": "stderr",
     "output_type": "stream",
     "text": [
      "100%|██████████| 409/409 [01:23<00:00,  4.89it/s]\n"
     ]
    },
    {
     "name": "stdout",
     "output_type": "stream",
     "text": [
      "Epoch:20/25 AVG Training Loss:0.182 AVG Validation Loss:0.580 AVG Training Acc 93.64 % AVG Validation Acc 82.72 %\n"
     ]
    },
    {
     "name": "stderr",
     "output_type": "stream",
     "text": [
      "100%|██████████| 409/409 [01:22<00:00,  4.93it/s]\n"
     ]
    },
    {
     "name": "stdout",
     "output_type": "stream",
     "text": [
      "Epoch:21/25 AVG Training Loss:0.183 AVG Validation Loss:0.570 AVG Training Acc 93.72 % AVG Validation Acc 83.11 %\n"
     ]
    },
    {
     "name": "stderr",
     "output_type": "stream",
     "text": [
      "100%|██████████| 409/409 [01:24<00:00,  4.84it/s]\n"
     ]
    },
    {
     "name": "stdout",
     "output_type": "stream",
     "text": [
      "Epoch:22/25 AVG Training Loss:0.174 AVG Validation Loss:0.578 AVG Training Acc 93.94 % AVG Validation Acc 82.78 %\n"
     ]
    },
    {
     "name": "stderr",
     "output_type": "stream",
     "text": [
      "100%|██████████| 409/409 [01:23<00:00,  4.92it/s]\n"
     ]
    },
    {
     "name": "stdout",
     "output_type": "stream",
     "text": [
      "Epoch:23/25 AVG Training Loss:0.179 AVG Validation Loss:0.564 AVG Training Acc 93.77 % AVG Validation Acc 83.07 %\n"
     ]
    },
    {
     "name": "stderr",
     "output_type": "stream",
     "text": [
      "100%|██████████| 409/409 [01:23<00:00,  4.88it/s]\n"
     ]
    },
    {
     "name": "stdout",
     "output_type": "stream",
     "text": [
      "Epoch:24/25 AVG Training Loss:0.177 AVG Validation Loss:0.578 AVG Training Acc 93.82 % AVG Validation Acc 82.65 %\n"
     ]
    },
    {
     "name": "stderr",
     "output_type": "stream",
     "text": [
      "100%|██████████| 409/409 [01:23<00:00,  4.92it/s]\n"
     ]
    },
    {
     "name": "stdout",
     "output_type": "stream",
     "text": [
      "Epoch:25/25 AVG Training Loss:0.173 AVG Validation Loss:0.572 AVG Training Acc 94.00 % AVG Validation Acc 82.94 %\n",
      "Fold 3\n"
     ]
    },
    {
     "name": "stderr",
     "output_type": "stream",
     "text": [
      "100%|██████████| 409/409 [01:24<00:00,  4.84it/s]\n"
     ]
    },
    {
     "name": "stdout",
     "output_type": "stream",
     "text": [
      "Epoch:1/25 AVG Training Loss:1.520 AVG Validation Loss:1.214 AVG Training Acc 40.28 % AVG Validation Acc 53.83 %\n"
     ]
    },
    {
     "name": "stderr",
     "output_type": "stream",
     "text": [
      "100%|██████████| 409/409 [01:23<00:00,  4.90it/s]\n"
     ]
    },
    {
     "name": "stdout",
     "output_type": "stream",
     "text": [
      "Epoch:2/25 AVG Training Loss:1.154 AVG Validation Loss:1.097 AVG Training Acc 55.83 % AVG Validation Acc 57.37 %\n"
     ]
    },
    {
     "name": "stderr",
     "output_type": "stream",
     "text": [
      "100%|██████████| 409/409 [01:23<00:00,  4.90it/s]\n"
     ]
    },
    {
     "name": "stdout",
     "output_type": "stream",
     "text": [
      "Epoch:3/25 AVG Training Loss:1.010 AVG Validation Loss:1.058 AVG Training Acc 61.68 % AVG Validation Acc 60.17 %\n"
     ]
    },
    {
     "name": "stderr",
     "output_type": "stream",
     "text": [
      "100%|██████████| 409/409 [01:23<00:00,  4.89it/s]\n"
     ]
    },
    {
     "name": "stdout",
     "output_type": "stream",
     "text": [
      "Epoch:4/25 AVG Training Loss:0.881 AVG Validation Loss:0.937 AVG Training Acc 67.09 % AVG Validation Acc 65.69 %\n"
     ]
    },
    {
     "name": "stderr",
     "output_type": "stream",
     "text": [
      "100%|██████████| 409/409 [01:32<00:00,  4.43it/s]\n"
     ]
    },
    {
     "name": "stdout",
     "output_type": "stream",
     "text": [
      "Epoch:5/25 AVG Training Loss:0.810 AVG Validation Loss:0.910 AVG Training Acc 70.00 % AVG Validation Acc 66.60 %\n"
     ]
    },
    {
     "name": "stderr",
     "output_type": "stream",
     "text": [
      "100%|██████████| 409/409 [01:23<00:00,  4.92it/s]\n"
     ]
    },
    {
     "name": "stdout",
     "output_type": "stream",
     "text": [
      "Epoch:6/25 AVG Training Loss:0.691 AVG Validation Loss:0.791 AVG Training Acc 74.61 % AVG Validation Acc 71.59 %\n"
     ]
    },
    {
     "name": "stderr",
     "output_type": "stream",
     "text": [
      "100%|██████████| 409/409 [01:29<00:00,  4.58it/s]\n"
     ]
    },
    {
     "name": "stdout",
     "output_type": "stream",
     "text": [
      "Epoch:7/25 AVG Training Loss:0.581 AVG Validation Loss:0.784 AVG Training Acc 78.84 % AVG Validation Acc 72.21 %\n"
     ]
    },
    {
     "name": "stderr",
     "output_type": "stream",
     "text": [
      "100%|██████████| 409/409 [01:23<00:00,  4.91it/s]\n"
     ]
    },
    {
     "name": "stdout",
     "output_type": "stream",
     "text": [
      "Epoch:8/25 AVG Training Loss:0.414 AVG Validation Loss:0.666 AVG Training Acc 85.30 % AVG Validation Acc 77.10 %\n"
     ]
    },
    {
     "name": "stderr",
     "output_type": "stream",
     "text": [
      "100%|██████████| 409/409 [01:24<00:00,  4.81it/s]\n"
     ]
    },
    {
     "name": "stdout",
     "output_type": "stream",
     "text": [
      "Epoch:9/25 AVG Training Loss:0.333 AVG Validation Loss:0.657 AVG Training Acc 88.18 % AVG Validation Acc 78.25 %\n"
     ]
    },
    {
     "name": "stderr",
     "output_type": "stream",
     "text": [
      "100%|██████████| 409/409 [01:23<00:00,  4.89it/s]\n"
     ]
    },
    {
     "name": "stdout",
     "output_type": "stream",
     "text": [
      "Epoch:10/25 AVG Training Loss:0.288 AVG Validation Loss:0.650 AVG Training Acc 89.81 % AVG Validation Acc 79.31 %\n"
     ]
    },
    {
     "name": "stderr",
     "output_type": "stream",
     "text": [
      "100%|██████████| 409/409 [01:22<00:00,  4.94it/s]\n"
     ]
    },
    {
     "name": "stdout",
     "output_type": "stream",
     "text": [
      "Epoch:11/25 AVG Training Loss:0.259 AVG Validation Loss:0.628 AVG Training Acc 90.85 % AVG Validation Acc 80.64 %\n"
     ]
    },
    {
     "name": "stderr",
     "output_type": "stream",
     "text": [
      "100%|██████████| 409/409 [01:23<00:00,  4.90it/s]\n"
     ]
    },
    {
     "name": "stdout",
     "output_type": "stream",
     "text": [
      "Epoch:12/25 AVG Training Loss:0.230 AVG Validation Loss:0.608 AVG Training Acc 92.01 % AVG Validation Acc 81.08 %\n"
     ]
    },
    {
     "name": "stderr",
     "output_type": "stream",
     "text": [
      "100%|██████████| 409/409 [01:24<00:00,  4.85it/s]\n"
     ]
    },
    {
     "name": "stdout",
     "output_type": "stream",
     "text": [
      "Epoch:13/25 AVG Training Loss:0.209 AVG Validation Loss:0.603 AVG Training Acc 92.78 % AVG Validation Acc 82.13 %\n"
     ]
    },
    {
     "name": "stderr",
     "output_type": "stream",
     "text": [
      "100%|██████████| 409/409 [01:24<00:00,  4.82it/s]\n"
     ]
    },
    {
     "name": "stdout",
     "output_type": "stream",
     "text": [
      "Epoch:14/25 AVG Training Loss:0.193 AVG Validation Loss:0.573 AVG Training Acc 93.37 % AVG Validation Acc 83.04 %\n"
     ]
    },
    {
     "name": "stderr",
     "output_type": "stream",
     "text": [
      "100%|██████████| 409/409 [01:23<00:00,  4.88it/s]\n"
     ]
    },
    {
     "name": "stdout",
     "output_type": "stream",
     "text": [
      "Epoch:15/25 AVG Training Loss:0.174 AVG Validation Loss:0.579 AVG Training Acc 94.04 % AVG Validation Acc 83.11 %\n"
     ]
    },
    {
     "name": "stderr",
     "output_type": "stream",
     "text": [
      "100%|██████████| 409/409 [01:24<00:00,  4.84it/s]\n"
     ]
    },
    {
     "name": "stdout",
     "output_type": "stream",
     "text": [
      "Epoch:16/25 AVG Training Loss:0.171 AVG Validation Loss:0.585 AVG Training Acc 93.99 % AVG Validation Acc 83.01 %\n"
     ]
    },
    {
     "name": "stderr",
     "output_type": "stream",
     "text": [
      "100%|██████████| 409/409 [01:23<00:00,  4.90it/s]\n"
     ]
    },
    {
     "name": "stdout",
     "output_type": "stream",
     "text": [
      "Epoch:17/25 AVG Training Loss:0.163 AVG Validation Loss:0.574 AVG Training Acc 94.38 % AVG Validation Acc 83.58 %\n"
     ]
    },
    {
     "name": "stderr",
     "output_type": "stream",
     "text": [
      "100%|██████████| 409/409 [01:23<00:00,  4.88it/s]\n"
     ]
    },
    {
     "name": "stdout",
     "output_type": "stream",
     "text": [
      "Epoch:18/25 AVG Training Loss:0.163 AVG Validation Loss:0.576 AVG Training Acc 94.37 % AVG Validation Acc 83.27 %\n"
     ]
    },
    {
     "name": "stderr",
     "output_type": "stream",
     "text": [
      "100%|██████████| 409/409 [01:26<00:00,  4.76it/s]\n"
     ]
    },
    {
     "name": "stdout",
     "output_type": "stream",
     "text": [
      "Epoch:19/25 AVG Training Loss:0.160 AVG Validation Loss:0.568 AVG Training Acc 94.45 % AVG Validation Acc 83.37 %\n"
     ]
    },
    {
     "name": "stderr",
     "output_type": "stream",
     "text": [
      "100%|██████████| 409/409 [01:23<00:00,  4.89it/s]\n"
     ]
    },
    {
     "name": "stdout",
     "output_type": "stream",
     "text": [
      "Epoch:20/25 AVG Training Loss:0.158 AVG Validation Loss:0.573 AVG Training Acc 94.63 % AVG Validation Acc 83.52 %\n"
     ]
    },
    {
     "name": "stderr",
     "output_type": "stream",
     "text": [
      "100%|██████████| 409/409 [01:23<00:00,  4.91it/s]\n"
     ]
    },
    {
     "name": "stdout",
     "output_type": "stream",
     "text": [
      "Epoch:21/25 AVG Training Loss:0.157 AVG Validation Loss:0.563 AVG Training Acc 94.57 % AVG Validation Acc 83.66 %\n"
     ]
    },
    {
     "name": "stderr",
     "output_type": "stream",
     "text": [
      "100%|██████████| 409/409 [01:26<00:00,  4.75it/s]\n"
     ]
    },
    {
     "name": "stdout",
     "output_type": "stream",
     "text": [
      "Epoch:22/25 AVG Training Loss:0.153 AVG Validation Loss:0.570 AVG Training Acc 94.83 % AVG Validation Acc 83.80 %\n"
     ]
    },
    {
     "name": "stderr",
     "output_type": "stream",
     "text": [
      "100%|██████████| 409/409 [01:37<00:00,  4.22it/s]\n"
     ]
    },
    {
     "name": "stdout",
     "output_type": "stream",
     "text": [
      "Epoch:23/25 AVG Training Loss:0.154 AVG Validation Loss:0.566 AVG Training Acc 94.58 % AVG Validation Acc 83.56 %\n"
     ]
    },
    {
     "name": "stderr",
     "output_type": "stream",
     "text": [
      "100%|██████████| 409/409 [01:32<00:00,  4.44it/s]\n"
     ]
    },
    {
     "name": "stdout",
     "output_type": "stream",
     "text": [
      "Epoch:24/25 AVG Training Loss:0.153 AVG Validation Loss:0.572 AVG Training Acc 94.78 % AVG Validation Acc 84.16 %\n"
     ]
    },
    {
     "name": "stderr",
     "output_type": "stream",
     "text": [
      "100%|██████████| 409/409 [01:24<00:00,  4.81it/s]\n"
     ]
    },
    {
     "name": "stdout",
     "output_type": "stream",
     "text": [
      "Epoch:25/25 AVG Training Loss:0.159 AVG Validation Loss:0.569 AVG Training Acc 94.45 % AVG Validation Acc 83.50 %\n",
      "Fold 4\n"
     ]
    },
    {
     "name": "stderr",
     "output_type": "stream",
     "text": [
      "100%|██████████| 409/409 [01:39<00:00,  4.11it/s]\n"
     ]
    },
    {
     "name": "stdout",
     "output_type": "stream",
     "text": [
      "Epoch:1/25 AVG Training Loss:1.542 AVG Validation Loss:1.298 AVG Training Acc 39.46 % AVG Validation Acc 50.68 %\n"
     ]
    },
    {
     "name": "stderr",
     "output_type": "stream",
     "text": [
      "100%|██████████| 409/409 [01:59<00:00,  3.43it/s]\n"
     ]
    },
    {
     "name": "stdout",
     "output_type": "stream",
     "text": [
      "Epoch:2/25 AVG Training Loss:1.149 AVG Validation Loss:1.083 AVG Training Acc 56.03 % AVG Validation Acc 58.93 %\n"
     ]
    },
    {
     "name": "stderr",
     "output_type": "stream",
     "text": [
      "100%|██████████| 409/409 [01:24<00:00,  4.85it/s]\n"
     ]
    },
    {
     "name": "stdout",
     "output_type": "stream",
     "text": [
      "Epoch:3/25 AVG Training Loss:1.094 AVG Validation Loss:1.052 AVG Training Acc 58.29 % AVG Validation Acc 60.19 %\n"
     ]
    },
    {
     "name": "stderr",
     "output_type": "stream",
     "text": [
      "100%|██████████| 409/409 [01:23<00:00,  4.88it/s]\n"
     ]
    },
    {
     "name": "stdout",
     "output_type": "stream",
     "text": [
      "Epoch:4/25 AVG Training Loss:0.955 AVG Validation Loss:0.945 AVG Training Acc 64.16 % AVG Validation Acc 64.70 %\n"
     ]
    },
    {
     "name": "stderr",
     "output_type": "stream",
     "text": [
      "100%|██████████| 409/409 [01:26<00:00,  4.75it/s]\n"
     ]
    },
    {
     "name": "stdout",
     "output_type": "stream",
     "text": [
      "Epoch:5/25 AVG Training Loss:0.802 AVG Validation Loss:0.866 AVG Training Acc 70.31 % AVG Validation Acc 68.26 %\n"
     ]
    },
    {
     "name": "stderr",
     "output_type": "stream",
     "text": [
      "100%|██████████| 409/409 [01:25<00:00,  4.79it/s]\n"
     ]
    },
    {
     "name": "stdout",
     "output_type": "stream",
     "text": [
      "Epoch:6/25 AVG Training Loss:0.697 AVG Validation Loss:0.791 AVG Training Acc 74.50 % AVG Validation Acc 71.03 %\n"
     ]
    },
    {
     "name": "stderr",
     "output_type": "stream",
     "text": [
      "100%|██████████| 409/409 [01:27<00:00,  4.69it/s]\n"
     ]
    },
    {
     "name": "stdout",
     "output_type": "stream",
     "text": [
      "Epoch:7/25 AVG Training Loss:0.669 AVG Validation Loss:0.759 AVG Training Acc 75.50 % AVG Validation Acc 72.87 %\n"
     ]
    },
    {
     "name": "stderr",
     "output_type": "stream",
     "text": [
      "100%|██████████| 409/409 [01:23<00:00,  4.89it/s]\n"
     ]
    },
    {
     "name": "stdout",
     "output_type": "stream",
     "text": [
      "Epoch:8/25 AVG Training Loss:0.433 AVG Validation Loss:0.691 AVG Training Acc 84.50 % AVG Validation Acc 76.19 %\n"
     ]
    },
    {
     "name": "stderr",
     "output_type": "stream",
     "text": [
      "100%|██████████| 409/409 [01:41<00:00,  4.04it/s]\n"
     ]
    },
    {
     "name": "stdout",
     "output_type": "stream",
     "text": [
      "Epoch:9/25 AVG Training Loss:0.377 AVG Validation Loss:0.683 AVG Training Acc 86.61 % AVG Validation Acc 77.10 %\n"
     ]
    },
    {
     "name": "stderr",
     "output_type": "stream",
     "text": [
      "100%|██████████| 409/409 [01:23<00:00,  4.90it/s]\n"
     ]
    },
    {
     "name": "stdout",
     "output_type": "stream",
     "text": [
      "Epoch:10/25 AVG Training Loss:0.333 AVG Validation Loss:0.675 AVG Training Acc 88.28 % AVG Validation Acc 77.43 %\n"
     ]
    },
    {
     "name": "stderr",
     "output_type": "stream",
     "text": [
      "100%|██████████| 409/409 [01:24<00:00,  4.85it/s]\n"
     ]
    },
    {
     "name": "stdout",
     "output_type": "stream",
     "text": [
      "Epoch:11/25 AVG Training Loss:0.302 AVG Validation Loss:0.633 AVG Training Acc 89.27 % AVG Validation Acc 79.27 %\n"
     ]
    },
    {
     "name": "stderr",
     "output_type": "stream",
     "text": [
      "100%|██████████| 409/409 [01:22<00:00,  4.97it/s]\n"
     ]
    },
    {
     "name": "stdout",
     "output_type": "stream",
     "text": [
      "Epoch:12/25 AVG Training Loss:0.273 AVG Validation Loss:0.623 AVG Training Acc 90.46 % AVG Validation Acc 80.08 %\n"
     ]
    },
    {
     "name": "stderr",
     "output_type": "stream",
     "text": [
      "100%|██████████| 409/409 [01:23<00:00,  4.91it/s]\n"
     ]
    },
    {
     "name": "stdout",
     "output_type": "stream",
     "text": [
      "Epoch:13/25 AVG Training Loss:0.247 AVG Validation Loss:0.605 AVG Training Acc 91.29 % AVG Validation Acc 81.56 %\n"
     ]
    },
    {
     "name": "stderr",
     "output_type": "stream",
     "text": [
      "100%|██████████| 409/409 [01:25<00:00,  4.76it/s]\n"
     ]
    },
    {
     "name": "stdout",
     "output_type": "stream",
     "text": [
      "Epoch:14/25 AVG Training Loss:0.228 AVG Validation Loss:0.605 AVG Training Acc 91.96 % AVG Validation Acc 80.98 %\n"
     ]
    },
    {
     "name": "stderr",
     "output_type": "stream",
     "text": [
      "100%|██████████| 409/409 [01:24<00:00,  4.84it/s]\n"
     ]
    },
    {
     "name": "stdout",
     "output_type": "stream",
     "text": [
      "Epoch:15/25 AVG Training Loss:0.208 AVG Validation Loss:0.598 AVG Training Acc 92.63 % AVG Validation Acc 81.80 %\n"
     ]
    },
    {
     "name": "stderr",
     "output_type": "stream",
     "text": [
      "100%|██████████| 409/409 [01:23<00:00,  4.90it/s]\n"
     ]
    },
    {
     "name": "stdout",
     "output_type": "stream",
     "text": [
      "Epoch:16/25 AVG Training Loss:0.200 AVG Validation Loss:0.594 AVG Training Acc 93.07 % AVG Validation Acc 81.90 %\n"
     ]
    },
    {
     "name": "stderr",
     "output_type": "stream",
     "text": [
      "100%|██████████| 409/409 [01:25<00:00,  4.80it/s]\n"
     ]
    },
    {
     "name": "stdout",
     "output_type": "stream",
     "text": [
      "Epoch:17/25 AVG Training Loss:0.201 AVG Validation Loss:0.585 AVG Training Acc 93.12 % AVG Validation Acc 82.32 %\n"
     ]
    },
    {
     "name": "stderr",
     "output_type": "stream",
     "text": [
      "100%|██████████| 409/409 [01:46<00:00,  3.85it/s]\n"
     ]
    },
    {
     "name": "stdout",
     "output_type": "stream",
     "text": [
      "Epoch:18/25 AVG Training Loss:0.200 AVG Validation Loss:0.579 AVG Training Acc 93.04 % AVG Validation Acc 82.61 %\n"
     ]
    },
    {
     "name": "stderr",
     "output_type": "stream",
     "text": [
      "100%|██████████| 409/409 [01:59<00:00,  3.42it/s]\n"
     ]
    },
    {
     "name": "stdout",
     "output_type": "stream",
     "text": [
      "Epoch:19/25 AVG Training Loss:0.194 AVG Validation Loss:0.578 AVG Training Acc 93.17 % AVG Validation Acc 82.51 %\n"
     ]
    },
    {
     "name": "stderr",
     "output_type": "stream",
     "text": [
      "100%|██████████| 409/409 [01:58<00:00,  3.44it/s]\n"
     ]
    },
    {
     "name": "stdout",
     "output_type": "stream",
     "text": [
      "Epoch:20/25 AVG Training Loss:0.192 AVG Validation Loss:0.585 AVG Training Acc 93.27 % AVG Validation Acc 82.25 %\n"
     ]
    },
    {
     "name": "stderr",
     "output_type": "stream",
     "text": [
      "100%|██████████| 409/409 [02:26<00:00,  2.80it/s]\n"
     ]
    },
    {
     "name": "stdout",
     "output_type": "stream",
     "text": [
      "Epoch:21/25 AVG Training Loss:0.188 AVG Validation Loss:0.587 AVG Training Acc 93.44 % AVG Validation Acc 82.43 %\n"
     ]
    },
    {
     "name": "stderr",
     "output_type": "stream",
     "text": [
      "100%|██████████| 409/409 [01:58<00:00,  3.44it/s]\n"
     ]
    },
    {
     "name": "stdout",
     "output_type": "stream",
     "text": [
      "Epoch:22/25 AVG Training Loss:0.190 AVG Validation Loss:0.582 AVG Training Acc 93.41 % AVG Validation Acc 82.29 %\n"
     ]
    },
    {
     "name": "stderr",
     "output_type": "stream",
     "text": [
      "100%|██████████| 409/409 [02:19<00:00,  2.93it/s]\n"
     ]
    },
    {
     "name": "stdout",
     "output_type": "stream",
     "text": [
      "Epoch:23/25 AVG Training Loss:0.186 AVG Validation Loss:0.587 AVG Training Acc 93.52 % AVG Validation Acc 82.43 %\n"
     ]
    },
    {
     "name": "stderr",
     "output_type": "stream",
     "text": [
      "100%|██████████| 409/409 [01:52<00:00,  3.65it/s]\n"
     ]
    },
    {
     "name": "stdout",
     "output_type": "stream",
     "text": [
      "Epoch:24/25 AVG Training Loss:0.186 AVG Validation Loss:0.578 AVG Training Acc 93.53 % AVG Validation Acc 82.36 %\n"
     ]
    },
    {
     "name": "stderr",
     "output_type": "stream",
     "text": [
      "100%|██████████| 409/409 [02:03<00:00,  3.32it/s]\n"
     ]
    },
    {
     "name": "stdout",
     "output_type": "stream",
     "text": [
      "Epoch:25/25 AVG Training Loss:0.184 AVG Validation Loss:0.573 AVG Training Acc 93.67 % AVG Validation Acc 82.68 %\n",
      "Fold 5\n"
     ]
    },
    {
     "name": "stderr",
     "output_type": "stream",
     "text": [
      "100%|██████████| 409/409 [01:56<00:00,  3.52it/s]\n"
     ]
    },
    {
     "name": "stdout",
     "output_type": "stream",
     "text": [
      "Epoch:1/25 AVG Training Loss:1.563 AVG Validation Loss:1.316 AVG Training Acc 39.10 % AVG Validation Acc 49.39 %\n"
     ]
    },
    {
     "name": "stderr",
     "output_type": "stream",
     "text": [
      "100%|██████████| 409/409 [01:58<00:00,  3.45it/s]\n"
     ]
    },
    {
     "name": "stdout",
     "output_type": "stream",
     "text": [
      "Epoch:2/25 AVG Training Loss:1.169 AVG Validation Loss:1.102 AVG Training Acc 55.35 % AVG Validation Acc 57.72 %\n"
     ]
    },
    {
     "name": "stderr",
     "output_type": "stream",
     "text": [
      "100%|██████████| 409/409 [01:58<00:00,  3.46it/s]\n"
     ]
    },
    {
     "name": "stdout",
     "output_type": "stream",
     "text": [
      "Epoch:3/25 AVG Training Loss:1.041 AVG Validation Loss:0.983 AVG Training Acc 60.58 % AVG Validation Acc 63.35 %\n"
     ]
    },
    {
     "name": "stderr",
     "output_type": "stream",
     "text": [
      "100%|██████████| 409/409 [01:58<00:00,  3.46it/s]\n"
     ]
    },
    {
     "name": "stdout",
     "output_type": "stream",
     "text": [
      "Epoch:4/25 AVG Training Loss:0.937 AVG Validation Loss:0.950 AVG Training Acc 64.65 % AVG Validation Acc 63.85 %\n"
     ]
    },
    {
     "name": "stderr",
     "output_type": "stream",
     "text": [
      "100%|██████████| 409/409 [01:58<00:00,  3.46it/s]\n"
     ]
    },
    {
     "name": "stdout",
     "output_type": "stream",
     "text": [
      "Epoch:5/25 AVG Training Loss:0.877 AVG Validation Loss:0.946 AVG Training Acc 67.07 % AVG Validation Acc 63.89 %\n"
     ]
    },
    {
     "name": "stderr",
     "output_type": "stream",
     "text": [
      "100%|██████████| 409/409 [02:00<00:00,  3.38it/s]\n"
     ]
    },
    {
     "name": "stdout",
     "output_type": "stream",
     "text": [
      "Epoch:6/25 AVG Training Loss:0.779 AVG Validation Loss:0.858 AVG Training Acc 71.21 % AVG Validation Acc 68.69 %\n"
     ]
    },
    {
     "name": "stderr",
     "output_type": "stream",
     "text": [
      "100%|██████████| 409/409 [01:57<00:00,  3.49it/s]\n"
     ]
    },
    {
     "name": "stdout",
     "output_type": "stream",
     "text": [
      "Epoch:7/25 AVG Training Loss:0.659 AVG Validation Loss:0.789 AVG Training Acc 75.99 % AVG Validation Acc 71.69 %\n"
     ]
    },
    {
     "name": "stderr",
     "output_type": "stream",
     "text": [
      "100%|██████████| 409/409 [01:59<00:00,  3.42it/s]\n"
     ]
    },
    {
     "name": "stdout",
     "output_type": "stream",
     "text": [
      "Epoch:8/25 AVG Training Loss:0.452 AVG Validation Loss:0.711 AVG Training Acc 83.96 % AVG Validation Acc 75.39 %\n"
     ]
    },
    {
     "name": "stderr",
     "output_type": "stream",
     "text": [
      "100%|██████████| 409/409 [01:58<00:00,  3.45it/s]\n"
     ]
    },
    {
     "name": "stdout",
     "output_type": "stream",
     "text": [
      "Epoch:9/25 AVG Training Loss:0.377 AVG Validation Loss:0.682 AVG Training Acc 86.63 % AVG Validation Acc 77.11 %\n"
     ]
    },
    {
     "name": "stderr",
     "output_type": "stream",
     "text": [
      "100%|██████████| 409/409 [01:59<00:00,  3.41it/s]\n"
     ]
    },
    {
     "name": "stdout",
     "output_type": "stream",
     "text": [
      "Epoch:10/25 AVG Training Loss:0.333 AVG Validation Loss:0.660 AVG Training Acc 88.08 % AVG Validation Acc 77.97 %\n"
     ]
    },
    {
     "name": "stderr",
     "output_type": "stream",
     "text": [
      "100%|██████████| 409/409 [01:59<00:00,  3.43it/s]\n"
     ]
    },
    {
     "name": "stdout",
     "output_type": "stream",
     "text": [
      "Epoch:11/25 AVG Training Loss:0.303 AVG Validation Loss:0.643 AVG Training Acc 89.22 % AVG Validation Acc 79.11 %\n"
     ]
    },
    {
     "name": "stderr",
     "output_type": "stream",
     "text": [
      "100%|██████████| 409/409 [02:02<00:00,  3.35it/s]\n"
     ]
    },
    {
     "name": "stdout",
     "output_type": "stream",
     "text": [
      "Epoch:12/25 AVG Training Loss:0.275 AVG Validation Loss:0.649 AVG Training Acc 90.35 % AVG Validation Acc 79.41 %\n"
     ]
    },
    {
     "name": "stderr",
     "output_type": "stream",
     "text": [
      "100%|██████████| 409/409 [02:01<00:00,  3.37it/s]\n"
     ]
    },
    {
     "name": "stdout",
     "output_type": "stream",
     "text": [
      "Epoch:13/25 AVG Training Loss:0.291 AVG Validation Loss:0.645 AVG Training Acc 89.67 % AVG Validation Acc 79.44 %\n"
     ]
    },
    {
     "name": "stderr",
     "output_type": "stream",
     "text": [
      "100%|██████████| 409/409 [02:01<00:00,  3.37it/s]\n"
     ]
    },
    {
     "name": "stdout",
     "output_type": "stream",
     "text": [
      "Epoch:14/25 AVG Training Loss:0.256 AVG Validation Loss:0.633 AVG Training Acc 90.95 % AVG Validation Acc 80.01 %\n"
     ]
    },
    {
     "name": "stderr",
     "output_type": "stream",
     "text": [
      "100%|██████████| 409/409 [02:05<00:00,  3.25it/s]\n"
     ]
    },
    {
     "name": "stdout",
     "output_type": "stream",
     "text": [
      "Epoch:15/25 AVG Training Loss:0.237 AVG Validation Loss:0.634 AVG Training Acc 91.63 % AVG Validation Acc 79.77 %\n"
     ]
    },
    {
     "name": "stderr",
     "output_type": "stream",
     "text": [
      "100%|██████████| 409/409 [02:06<00:00,  3.23it/s]\n"
     ]
    },
    {
     "name": "stdout",
     "output_type": "stream",
     "text": [
      "Epoch:16/25 AVG Training Loss:0.234 AVG Validation Loss:0.630 AVG Training Acc 91.79 % AVG Validation Acc 80.27 %\n"
     ]
    },
    {
     "name": "stderr",
     "output_type": "stream",
     "text": [
      "100%|██████████| 409/409 [02:03<00:00,  3.30it/s]\n"
     ]
    },
    {
     "name": "stdout",
     "output_type": "stream",
     "text": [
      "Epoch:17/25 AVG Training Loss:0.231 AVG Validation Loss:0.623 AVG Training Acc 91.97 % AVG Validation Acc 80.72 %\n"
     ]
    },
    {
     "name": "stderr",
     "output_type": "stream",
     "text": [
      "100%|██████████| 409/409 [01:59<00:00,  3.41it/s]\n"
     ]
    },
    {
     "name": "stdout",
     "output_type": "stream",
     "text": [
      "Epoch:18/25 AVG Training Loss:0.229 AVG Validation Loss:0.620 AVG Training Acc 92.01 % AVG Validation Acc 81.39 %\n"
     ]
    },
    {
     "name": "stderr",
     "output_type": "stream",
     "text": [
      "100%|██████████| 409/409 [01:56<00:00,  3.51it/s]\n"
     ]
    },
    {
     "name": "stdout",
     "output_type": "stream",
     "text": [
      "Epoch:19/25 AVG Training Loss:0.226 AVG Validation Loss:0.626 AVG Training Acc 92.05 % AVG Validation Acc 80.85 %\n"
     ]
    },
    {
     "name": "stderr",
     "output_type": "stream",
     "text": [
      "100%|██████████| 409/409 [01:29<00:00,  4.59it/s]\n"
     ]
    },
    {
     "name": "stdout",
     "output_type": "stream",
     "text": [
      "Epoch:20/25 AVG Training Loss:0.221 AVG Validation Loss:0.614 AVG Training Acc 92.36 % AVG Validation Acc 81.38 %\n"
     ]
    },
    {
     "name": "stderr",
     "output_type": "stream",
     "text": [
      "100%|██████████| 409/409 [01:26<00:00,  4.71it/s]\n"
     ]
    },
    {
     "name": "stdout",
     "output_type": "stream",
     "text": [
      "Epoch:21/25 AVG Training Loss:0.224 AVG Validation Loss:0.617 AVG Training Acc 92.16 % AVG Validation Acc 81.18 %\n"
     ]
    },
    {
     "name": "stderr",
     "output_type": "stream",
     "text": [
      "100%|██████████| 409/409 [01:28<00:00,  4.62it/s]\n"
     ]
    },
    {
     "name": "stdout",
     "output_type": "stream",
     "text": [
      "Epoch:22/25 AVG Training Loss:0.218 AVG Validation Loss:0.620 AVG Training Acc 92.38 % AVG Validation Acc 81.04 %\n"
     ]
    },
    {
     "name": "stderr",
     "output_type": "stream",
     "text": [
      "100%|██████████| 409/409 [01:37<00:00,  4.18it/s]\n"
     ]
    },
    {
     "name": "stdout",
     "output_type": "stream",
     "text": [
      "Epoch:23/25 AVG Training Loss:0.222 AVG Validation Loss:0.615 AVG Training Acc 92.19 % AVG Validation Acc 81.08 %\n"
     ]
    },
    {
     "name": "stderr",
     "output_type": "stream",
     "text": [
      "100%|██████████| 409/409 [01:40<00:00,  4.07it/s]\n"
     ]
    },
    {
     "name": "stdout",
     "output_type": "stream",
     "text": [
      "Epoch:24/25 AVG Training Loss:0.217 AVG Validation Loss:0.612 AVG Training Acc 92.37 % AVG Validation Acc 81.28 %\n"
     ]
    },
    {
     "name": "stderr",
     "output_type": "stream",
     "text": [
      "100%|██████████| 409/409 [01:49<00:00,  3.75it/s]\n"
     ]
    },
    {
     "name": "stdout",
     "output_type": "stream",
     "text": [
      "Epoch:25/25 AVG Training Loss:0.219 AVG Validation Loss:0.615 AVG Training Acc 92.22 % AVG Validation Acc 81.16 %\n"
     ]
    }
   ],
   "source": [
    "models_list = []\n",
    "foldperf = {}\n",
    "val_correct = 0\n",
    "splits = StratifiedKFold(n_splits = k,shuffle = True,random_state = 42)\n",
    "\n",
    "for fold, (train_idx,val_idx) in enumerate(splits.split(np.arange(len(train)),targets)):\n",
    "\n",
    "    print('Fold {}'.format(fold + 1))\n",
    "\n",
    "    train_sampler = SubsetRandomSampler(train_idx)\n",
    "    val_sampler = SubsetRandomSampler(val_idx)\n",
    "    train_loader = DataLoader(train, batch_size = batch_size, sampler = train_sampler)\n",
    "    val_loader = DataLoader(train, batch_size = batch_size, sampler = val_sampler)\n",
    "        \n",
    "    model = ConvNet2()\n",
    "    model.to(device)\n",
    "    optimizer = optim.Adam(model.parameters(), lr=0.002)\n",
    "    step_lr_scheduler = lr_scheduler.StepLR(optimizer, step_size=7, gamma=0.1)\n",
    "\n",
    "    history = {'train_loss': [], 'test_loss': [],'train_acc':[],'test_acc':[]}\n",
    "\n",
    "    for epoch in range(num_epochs):\n",
    "        train_loss, train_correct = train_epoch(model,device,train_loader,criterion,optimizer)\n",
    "        val_loss, val_correct = valid_epoch(model,device,val_loader,criterion)\n",
    "\n",
    "        train_loss = train_loss / len(train_loader.sampler)\n",
    "        train_acc = train_correct / len(train_loader.sampler) * 100\n",
    "        val_loss = val_loss / len(val_loader.sampler)\n",
    "        val_acc = val_correct / len(val_loader.sampler) * 100\n",
    "\n",
    "        print(\"Epoch:{}/{} AVG Training Loss:{:.3f} AVG Validation Loss:{:.3f} AVG Training Acc {:.2f} % AVG Validation Acc {:.2f} %\"\n",
    "              .format(epoch + 1,num_epochs,train_loss,val_loss, train_acc, val_acc))\n",
    "        \n",
    "        history['train_loss'].append(train_loss)\n",
    "        history['test_loss'].append(val_loss)\n",
    "        history['train_acc'].append(train_acc)\n",
    "        history['test_acc'].append(val_acc)\n",
    "        \n",
    "        step_lr_scheduler.step()\n",
    "    models_list.append(model)\n",
    "\n",
    "    foldperf['fold{}'.format(fold+1)] = history  \n",
    "\n",
    "    #saving model\n",
    "#     checkpoint = {'model': ConvNet2(),\n",
    "#                   'state_dict': model.state_dict(),\n",
    "#                   'optimizer' : optimizer.state_dict()}\n",
    "\n",
    "#     torch.save(checkpoint, f'checkpoint{fold+1}.pth')"
   ]
  },
  {
   "cell_type": "markdown",
   "id": "a1db24a6",
   "metadata": {
    "papermill": {
     "duration": 13.725985,
     "end_time": "2021-11-01T02:07:56.289302",
     "exception": false,
     "start_time": "2021-11-01T02:07:42.563317",
     "status": "completed"
    },
    "tags": []
   },
   "source": [
    "### Test predictions using ensemble of all models"
   ]
  },
  {
   "cell_type": "code",
   "execution_count": 11,
   "id": "bd426703",
   "metadata": {
    "execution": {
     "iopub.execute_input": "2021-11-01T02:08:24.290926Z",
     "iopub.status.busy": "2021-11-01T02:08:24.289976Z",
     "iopub.status.idle": "2021-11-01T02:08:38.461973Z",
     "shell.execute_reply": "2021-11-01T02:08:38.462451Z",
     "shell.execute_reply.started": "2021-10-31T22:05:45.716851Z"
    },
    "papermill": {
     "duration": 28.539953,
     "end_time": "2021-11-01T02:08:38.462605",
     "exception": false,
     "start_time": "2021-11-01T02:08:09.922652",
     "status": "completed"
    },
    "tags": []
   },
   "outputs": [
    {
     "name": "stderr",
     "output_type": "stream",
     "text": [
      "  0%|          | 0/64 [00:00<?, ?it/s]/opt/conda/lib/python3.7/site-packages/torch/utils/data/dataloader.py:481: UserWarning: This DataLoader will create 4 worker processes in total. Our suggested max number of worker in current system is 2, which is smaller than what this DataLoader is going to create. Please be aware that excessive worker creation might get DataLoader running slow or even freeze, lower the worker number to avoid potential slowness/freeze if necessary.\n",
      "  cpuset_checked))\n",
      "100%|██████████| 64/64 [00:14<00:00,  4.52it/s]\n"
     ]
    }
   ],
   "source": [
    "val_correct = 0\n",
    "f1 = []\n",
    "with torch.no_grad():\n",
    "    for images, labels in tqdm(test_data_loader):\n",
    "        output = torch.zeros(size = (len(images),8)).to(device)\n",
    "        images,labels = images.to(device),labels.to(device)\n",
    "        for model in models_list:\n",
    "            output += model(images)/len(models_list)\n",
    "        scores, predictions = torch.max(output.data,1)\n",
    "        val_correct += (predictions == labels).sum().item()\n",
    "        labels = labels.cpu().numpy()\n",
    "        predictions = predictions.cpu().numpy()\n",
    "        f1.append(f1_score(labels,predictions,average = None))"
   ]
  },
  {
   "cell_type": "markdown",
   "id": "7ba8bda9",
   "metadata": {
    "papermill": {
     "duration": 14.014917,
     "end_time": "2021-11-01T02:09:06.874160",
     "exception": false,
     "start_time": "2021-11-01T02:08:52.859243",
     "status": "completed"
    },
    "tags": []
   },
   "source": [
    "### Test Accuracy"
   ]
  },
  {
   "cell_type": "code",
   "execution_count": 12,
   "id": "0facb59e",
   "metadata": {
    "execution": {
     "iopub.execute_input": "2021-11-01T02:09:35.077815Z",
     "iopub.status.busy": "2021-11-01T02:09:35.076059Z",
     "iopub.status.idle": "2021-11-01T02:09:35.080004Z",
     "shell.execute_reply": "2021-11-01T02:09:35.079500Z",
     "shell.execute_reply.started": "2021-10-31T22:05:45.718571Z"
    },
    "papermill": {
     "duration": 13.758705,
     "end_time": "2021-11-01T02:09:35.080134",
     "exception": false,
     "start_time": "2021-11-01T02:09:21.321429",
     "status": "completed"
    },
    "tags": []
   },
   "outputs": [
    {
     "name": "stdout",
     "output_type": "stream",
     "text": [
      "Accuracy : 0.6958119030124909\n"
     ]
    }
   ],
   "source": [
    "acc = val_correct/len(test)          \n",
    "print('Accuracy :',acc)"
   ]
  },
  {
   "cell_type": "markdown",
   "id": "f0552a0e",
   "metadata": {
    "papermill": {
     "duration": 14.531884,
     "end_time": "2021-11-01T02:10:03.317812",
     "exception": false,
     "start_time": "2021-11-01T02:09:48.785928",
     "status": "completed"
    },
    "tags": []
   },
   "source": [
    "### F1 scores for each class"
   ]
  },
  {
   "cell_type": "code",
   "execution_count": 13,
   "id": "71a5b3cf",
   "metadata": {
    "execution": {
     "iopub.execute_input": "2021-11-01T02:10:31.268638Z",
     "iopub.status.busy": "2021-11-01T02:10:31.267426Z",
     "iopub.status.idle": "2021-11-01T02:10:31.271297Z",
     "shell.execute_reply": "2021-11-01T02:10:31.270745Z",
     "shell.execute_reply.started": "2021-10-31T22:05:45.720209Z"
    },
    "papermill": {
     "duration": 14.307048,
     "end_time": "2021-11-01T02:10:31.271419",
     "exception": false,
     "start_time": "2021-11-01T02:10:16.964371",
     "status": "completed"
    },
    "tags": []
   },
   "outputs": [
    {
     "name": "stdout",
     "output_type": "stream",
     "text": [
      "ANGER : 0.5481824361963121\n",
      "CONTEMPT : 0.9340297935426818\n",
      "DISGUST : 0.8854943221310874\n",
      "FEAR : 0.5058971641706157\n",
      "HAPPINESS : 0.8504119018202446\n",
      "NEUTRAL : 0.616832607338955\n",
      "SADNESS : 0.5392377347503544\n",
      "SURPRISE : 0.7873557516421471\n"
     ]
    }
   ],
   "source": [
    "scores = np.array(f1)\n",
    "avg_f1 = np.mean(scores,axis = 0)\n",
    "for i,j in enumerate(emotions):\n",
    "    print(f'{j} : {avg_f1[i]}')"
   ]
  },
  {
   "cell_type": "markdown",
   "id": "3ad786f2",
   "metadata": {
    "papermill": {
     "duration": 13.929173,
     "end_time": "2021-11-01T02:10:58.853762",
     "exception": false,
     "start_time": "2021-11-01T02:10:44.924589",
     "status": "completed"
    },
    "tags": []
   },
   "source": [
    "### Average F1 Score"
   ]
  },
  {
   "cell_type": "code",
   "execution_count": 14,
   "id": "9741f062",
   "metadata": {
    "execution": {
     "iopub.execute_input": "2021-11-01T02:11:26.597799Z",
     "iopub.status.busy": "2021-11-01T02:11:26.596984Z",
     "iopub.status.idle": "2021-11-01T02:11:26.600275Z",
     "shell.execute_reply": "2021-11-01T02:11:26.600717Z",
     "shell.execute_reply.started": "2021-10-31T22:05:45.721840Z"
    },
    "papermill": {
     "duration": 13.636379,
     "end_time": "2021-11-01T02:11:26.600867",
     "exception": false,
     "start_time": "2021-11-01T02:11:12.964488",
     "status": "completed"
    },
    "tags": []
   },
   "outputs": [
    {
     "name": "stdout",
     "output_type": "stream",
     "text": [
      "0.7084302139490498\n"
     ]
    }
   ],
   "source": [
    "print(np.mean(avg_f1))"
   ]
  }
 ],
 "metadata": {
  "kernelspec": {
   "display_name": "Python 3",
   "language": "python",
   "name": "python3"
  },
  "language_info": {
   "codemirror_mode": {
    "name": "ipython",
    "version": 3
   },
   "file_extension": ".py",
   "mimetype": "text/x-python",
   "name": "python",
   "nbconvert_exporter": "python",
   "pygments_lexer": "ipython3",
   "version": "3.7.10"
  },
  "papermill": {
   "default_parameters": {},
   "duration": 14730.365985,
   "end_time": "2021-11-01T02:11:42.669773",
   "environment_variables": {},
   "exception": null,
   "input_path": "__notebook__.ipynb",
   "output_path": "__notebook__.ipynb",
   "parameters": {},
   "start_time": "2021-10-31T22:06:12.303788",
   "version": "2.3.3"
  }
 },
 "nbformat": 4,
 "nbformat_minor": 5
}
